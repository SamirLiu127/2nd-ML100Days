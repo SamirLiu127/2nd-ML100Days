{
 "cells": [
  {
   "cell_type": "markdown",
   "metadata": {},
   "source": [
    "### 作業\n",
    "目前已經學過許多的模型，相信大家對整體流程應該比較掌握了，這次作業請改用**手寫辨識資料集**，步驟流程都是一樣的，請試著自己撰寫程式碼來完成所有步驟"
   ]
  },
  {
   "cell_type": "code",
   "execution_count": 1,
   "metadata": {
    "collapsed": true
   },
   "outputs": [],
   "source": [
    "from sklearn import datasets, metrics\n",
    "from sklearn.ensemble import GradientBoostingClassifier\n",
    "from sklearn.model_selection import train_test_split\n",
    "\n",
    "digits = datasets.load_digits()"
   ]
  },
  {
   "cell_type": "code",
   "execution_count": 5,
   "metadata": {},
   "outputs": [
    {
     "data": {
      "text/plain": [
       "<matplotlib.figure.Figure at 0x106453908>"
      ]
     },
     "metadata": {},
     "output_type": "display_data"
    },
    {
     "data": {
      "image/png": "[encoded data removed]",
      "text/plain": [
       "<matplotlib.figure.Figure at 0x1072b1a58>"
      ]
     },
     "metadata": {},
     "output_type": "display_data"
    }
   ],
   "source": [
    "import matplotlib.pyplot as plt \n",
    "plt.gray() \n",
    "plt.matshow(digits.images[10]) \n",
    "plt.show()"
   ]
  },
  {
   "cell_type": "code",
   "execution_count": 2,
   "metadata": {
    "collapsed": true
   },
   "outputs": [],
   "source": [
    "# 切分訓練集/測試集\n",
    "x_train, x_test, y_train, y_test = train_test_split(digits.data, digits.target, test_size=0.25, random_state=4)\n",
    "\n",
    "# 建立模型\n",
    "clf = GradientBoostingClassifier(n_estimators=100, learning_rate=0.1)\n",
    "\n",
    "# 訓練模型\n",
    "clf.fit(x_train, y_train)\n",
    "\n",
    "# 預測測試集\n",
    "y_pred = clf.predict(x_test)"
   ]
  },
  {
   "cell_type": "code",
   "execution_count": 3,
   "metadata": {},
   "outputs": [
    {
     "name": "stdout",
     "output_type": "stream",
     "text": [
      "Acuuracy:  0.9666666666666667\n"
     ]
    }
   ],
   "source": [
    "acc = metrics.accuracy_score(y_test, y_pred)\n",
    "print(\"Acuuracy: \", acc)"
   ]
  },
  {
   "cell_type": "code",
   "execution_count": 4,
   "metadata": {},
   "outputs": [
    {
     "name": "stdout",
     "output_type": "stream",
     "text": [
      "Feature importance:  [0.00000000e+00 3.72832238e-03 1.77798591e-02 1.78084498e-02\n",
      " 1.52901849e-02 1.65184221e-02 1.42138055e-02 3.98561109e-03\n",
      " 0.00000000e+00 1.05380277e-02 1.12032462e-02 7.50268313e-03\n",
      " 1.45520944e-02 3.40795184e-02 1.69856005e-02 5.55474391e-04\n",
      " 1.47158280e-03 1.38890540e-02 2.12034074e-02 4.17016372e-02\n",
      " 1.80898058e-02 5.29376288e-02 1.64921752e-02 2.79387827e-05\n",
      " 9.04655567e-04 5.81385117e-03 3.27064169e-02 2.54797050e-02\n",
      " 2.68413246e-02 1.98033468e-02 1.43965283e-02 1.13959256e-03\n",
      " 0.00000000e+00 2.02691393e-02 2.62602819e-02 9.54991652e-03\n",
      " 3.83467811e-02 1.31961409e-02 2.48581187e-02 0.00000000e+00\n",
      " 0.00000000e+00 8.47516182e-03 4.31563360e-02 3.43265554e-02\n",
      " 1.62888361e-02 1.38650258e-02 1.36745095e-02 1.22578032e-04\n",
      " 0.00000000e+00 6.70966757e-03 2.37040255e-02 3.06919171e-02\n",
      " 1.03034964e-02 2.55636609e-02 2.05970153e-02 4.45585735e-03\n",
      " 0.00000000e+00 2.06404892e-03 2.05747815e-02 8.06329734e-03\n",
      " 3.81310960e-02 1.95939685e-02 8.95955697e-03 1.15582791e-02]\n"
     ]
    }
   ],
   "source": [
    "print(\"Feature importance: \", clf.feature_importances_)"
   ]
  },
  {
   "cell_type": "code",
   "execution_count": null,
   "metadata": {
    "collapsed": true
   },
   "outputs": [],
   "source": []
  }
 ],
 "metadata": {
  "kernelspec": {
   "display_name": "Python 3",
   "language": "python",
   "name": "python3"
  },
  "language_info": {
   "codemirror_mode": {
    "name": "ipython",
    "version": 3
   },
   "file_extension": ".py",
   "mimetype": "text/x-python",
   "name": "python",
   "nbconvert_exporter": "python",
   "pygments_lexer": "ipython3",
   "version": "3.6.8"
  }
 },
 "nbformat": 4,
 "nbformat_minor": 2
}
