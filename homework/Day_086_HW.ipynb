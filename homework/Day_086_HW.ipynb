{
 "cells": [
  {
   "cell_type": "markdown",
   "metadata": {},
   "source": [
    "## Work\n",
    "1. 試比較 save_best_only 與否的差異\n",
    "2. 請僅存入將 save_weights_only 設定為 True, 並嘗試 reset ipynb 並將模型與權重重新建回並預測 x_test"
   ]
  },
  {
   "cell_type": "code",
   "execution_count": 1,
   "metadata": {},
   "outputs": [
    {
     "name": "stderr",
     "output_type": "stream",
     "text": [
      "Using TensorFlow backend.\n"
     ]
    }
   ],
   "source": [
    "import os\n",
    "import keras\n",
    "\n",
    "# Disable GPU\n",
    "os.environ[\"CUDA_VISIBLE_DEVICES\"] = \"\""
   ]
  },
  {
   "cell_type": "code",
   "execution_count": 2,
   "metadata": {},
   "outputs": [],
   "source": [
    "train, test = keras.datasets.cifar10.load_data()"
   ]
  },
  {
   "cell_type": "code",
   "execution_count": 3,
   "metadata": {},
   "outputs": [],
   "source": [
    "## 資料前處理\n",
    "def preproc_x(x, flatten=True):\n",
    "    x = x / 255.\n",
    "    if flatten:\n",
    "        x = x.reshape((len(x), -1))\n",
    "    return x\n",
    "\n",
    "def preproc_y(y, num_classes=10):\n",
    "    if y.shape[-1] == 1:\n",
    "        y = keras.utils.to_categorical(y, num_classes)\n",
    "    return y    "
   ]
  },
  {
   "cell_type": "code",
   "execution_count": 4,
   "metadata": {},
   "outputs": [],
   "source": [
    "x_train, y_train = train\n",
    "x_test, y_test = test\n",
    "\n",
    "# Preproc the inputs\n",
    "x_train = preproc_x(x_train)\n",
    "x_test = preproc_x(x_test)\n",
    "\n",
    "# Preprc the outputs\n",
    "y_train = preproc_y(y_train)\n",
    "y_test = preproc_y(y_test)"
   ]
  },
  {
   "cell_type": "code",
   "execution_count": 5,
   "metadata": {},
   "outputs": [],
   "source": [
    "from keras.layers import BatchNormalization\n",
    "\n",
    "def build_mlp(input_shape, output_units=10, num_neurons=[2048, 1024, 512, 256, 128]):\n",
    "    \"\"\"Code Here\n",
    "    建立你的神經網路\n",
    "    \"\"\"\n",
    "    input_layer = keras.layers.Input(input_shape)\n",
    "    \n",
    "    for i, n_units in enumerate(num_neurons):\n",
    "        if i == 0:\n",
    "            x = BatchNormalization()(input_layer)\n",
    "            x = keras.layers.Dense(units=n_units, \n",
    "                                   activation=\"relu\", \n",
    "                                   name=\"hidden_layer\"+str(i+1))(x)\n",
    "            x = BatchNormalization()(x)\n",
    "        else:\n",
    "            x = keras.layers.Dense(units=n_units, \n",
    "                                   activation=\"relu\", \n",
    "                                   name=\"hidden_layer\"+str(i+1))(x)\n",
    "            x = BatchNormalization()(x)\n",
    "            \n",
    "    out = keras.layers.Dense(units=output_units, activation=\"softmax\", name=\"output\")(x)\n",
    "    \n",
    "    model = keras.models.Model(inputs=[input_layer], outputs=[out])\n",
    "    return model"
   ]
  },
  {
   "cell_type": "code",
   "execution_count": 6,
   "metadata": {},
   "outputs": [],
   "source": [
    "\"\"\"Code Here\n",
    "設定超參數\n",
    "\"\"\"\n",
    "LEARNING_RATE = 1e-3\n",
    "EPOCHS = 50\n",
    "BATCH_SIZE = 2048\n",
    "MOMENTUM = 0.95"
   ]
  },
  {
   "cell_type": "code",
   "execution_count": 7,
   "metadata": {},
   "outputs": [
    {
     "name": "stderr",
     "output_type": "stream",
     "text": [
      "WARNING: Logging before flag parsing goes to stderr.\n",
      "W0730 22:49:52.217126  1272 deprecation_wrapper.py:119] From C:\\Users\\Sims_Home\\Anaconda3\\lib\\site-packages\\keras\\backend\\tensorflow_backend.py:74: The name tf.get_default_graph is deprecated. Please use tf.compat.v1.get_default_graph instead.\n",
      "\n",
      "W0730 22:49:52.244052  1272 deprecation_wrapper.py:119] From C:\\Users\\Sims_Home\\Anaconda3\\lib\\site-packages\\keras\\backend\\tensorflow_backend.py:517: The name tf.placeholder is deprecated. Please use tf.compat.v1.placeholder instead.\n",
      "\n",
      "W0730 22:49:52.323839  1272 deprecation_wrapper.py:119] From C:\\Users\\Sims_Home\\Anaconda3\\lib\\site-packages\\keras\\backend\\tensorflow_backend.py:133: The name tf.placeholder_with_default is deprecated. Please use tf.compat.v1.placeholder_with_default instead.\n",
      "\n",
      "W0730 22:49:52.341791  1272 deprecation_wrapper.py:119] From C:\\Users\\Sims_Home\\Anaconda3\\lib\\site-packages\\keras\\backend\\tensorflow_backend.py:4138: The name tf.random_uniform is deprecated. Please use tf.random.uniform instead.\n",
      "\n",
      "W0730 22:49:52.885866  1272 deprecation_wrapper.py:119] From C:\\Users\\Sims_Home\\Anaconda3\\lib\\site-packages\\keras\\optimizers.py:790: The name tf.train.Optimizer is deprecated. Please use tf.compat.v1.train.Optimizer instead.\n",
      "\n",
      "W0730 22:49:52.896837  1272 deprecation_wrapper.py:119] From C:\\Users\\Sims_Home\\Anaconda3\\lib\\site-packages\\keras\\backend\\tensorflow_backend.py:3295: The name tf.log is deprecated. Please use tf.math.log instead.\n",
      "\n",
      "W0730 22:49:53.010531  1272 deprecation.py:323] From C:\\Users\\Sims_Home\\Anaconda3\\lib\\site-packages\\tensorflow\\python\\ops\\math_grad.py:1250: add_dispatch_support.<locals>.wrapper (from tensorflow.python.ops.array_ops) is deprecated and will be removed in a future version.\n",
      "Instructions for updating:\n",
      "Use tf.where in 2.0, which has the same broadcast rule as np.where\n"
     ]
    },
    {
     "name": "stdout",
     "output_type": "stream",
     "text": [
      "_________________________________________________________________\n",
      "Layer (type)                 Output Shape              Param #   \n",
      "=================================================================\n",
      "input_1 (InputLayer)         (None, 3072)              0         \n",
      "_________________________________________________________________\n",
      "batch_normalization_1 (Batch (None, 3072)              12288     \n",
      "_________________________________________________________________\n",
      "hidden_layer1 (Dense)        (None, 2048)              6293504   \n",
      "_________________________________________________________________\n",
      "batch_normalization_2 (Batch (None, 2048)              8192      \n",
      "_________________________________________________________________\n",
      "hidden_layer2 (Dense)        (None, 1024)              2098176   \n",
      "_________________________________________________________________\n",
      "batch_normalization_3 (Batch (None, 1024)              4096      \n",
      "_________________________________________________________________\n",
      "hidden_layer3 (Dense)        (None, 512)               524800    \n",
      "_________________________________________________________________\n",
      "batch_normalization_4 (Batch (None, 512)               2048      \n",
      "_________________________________________________________________\n",
      "hidden_layer4 (Dense)        (None, 256)               131328    \n",
      "_________________________________________________________________\n",
      "batch_normalization_5 (Batch (None, 256)               1024      \n",
      "_________________________________________________________________\n",
      "hidden_layer5 (Dense)        (None, 128)               32896     \n",
      "_________________________________________________________________\n",
      "batch_normalization_6 (Batch (None, 128)               512       \n",
      "_________________________________________________________________\n",
      "output (Dense)               (None, 10)                1290      \n",
      "=================================================================\n",
      "Total params: 9,110,154\n",
      "Trainable params: 9,096,074\n",
      "Non-trainable params: 14,080\n",
      "_________________________________________________________________\n",
      "Train on 50000 samples, validate on 10000 samples\n",
      "Epoch 1/50\n",
      "50000/50000 [==============================] - 32s 648us/step - loss: 2.4642 - acc: 0.2183 - val_loss: 2.0939 - val_acc: 0.3198\n",
      "Epoch 2/50\n",
      "50000/50000 [==============================] - 31s 622us/step - loss: 1.8032 - acc: 0.3815 - val_loss: 1.8564 - val_acc: 0.3805\n",
      "Epoch 3/50\n",
      "50000/50000 [==============================] - 30s 609us/step - loss: 1.5863 - acc: 0.4476 - val_loss: 1.7298 - val_acc: 0.4052\n",
      "Epoch 4/50\n",
      "50000/50000 [==============================] - 31s 619us/step - loss: 1.4503 - acc: 0.4970 - val_loss: 1.6627 - val_acc: 0.4234\n",
      "Epoch 5/50\n",
      "50000/50000 [==============================] - 31s 612us/step - loss: 1.3473 - acc: 0.5370 - val_loss: 1.6250 - val_acc: 0.4322\n",
      "Epoch 6/50\n",
      "50000/50000 [==============================] - 30s 607us/step - loss: 1.2593 - acc: 0.5726 - val_loss: 1.6018 - val_acc: 0.4406\n",
      "Epoch 7/50\n",
      "50000/50000 [==============================] - 30s 606us/step - loss: 1.1827 - acc: 0.6043 - val_loss: 1.5878 - val_acc: 0.4451\n",
      "Epoch 8/50\n",
      "50000/50000 [==============================] - 30s 602us/step - loss: 1.1118 - acc: 0.6344 - val_loss: 1.5736 - val_acc: 0.4512\n",
      "Epoch 9/50\n",
      "50000/50000 [==============================] - 31s 616us/step - loss: 1.0455 - acc: 0.6632 - val_loss: 1.5643 - val_acc: 0.4541\n",
      "Epoch 10/50\n",
      "50000/50000 [==============================] - 30s 603us/step - loss: 0.9828 - acc: 0.6913 - val_loss: 1.5589 - val_acc: 0.4559\n",
      "Epoch 11/50\n",
      "50000/50000 [==============================] - 31s 611us/step - loss: 0.9244 - acc: 0.7164 - val_loss: 1.5570 - val_acc: 0.4579\n",
      "Epoch 12/50\n",
      "50000/50000 [==============================] - 30s 608us/step - loss: 0.8666 - acc: 0.7394 - val_loss: 1.5560 - val_acc: 0.4577\n",
      "Epoch 13/50\n",
      "50000/50000 [==============================] - 31s 612us/step - loss: 0.8109 - acc: 0.7656 - val_loss: 1.5547 - val_acc: 0.4621\n",
      "Epoch 14/50\n",
      "50000/50000 [==============================] - 31s 613us/step - loss: 0.7592 - acc: 0.7861 - val_loss: 1.5576 - val_acc: 0.4632\n",
      "Epoch 15/50\n",
      "50000/50000 [==============================] - 31s 613us/step - loss: 0.7076 - acc: 0.8077 - val_loss: 1.5616 - val_acc: 0.4649\n",
      "Epoch 16/50\n",
      "50000/50000 [==============================] - 31s 612us/step - loss: 0.6587 - acc: 0.8308 - val_loss: 1.5686 - val_acc: 0.4608\n",
      "Epoch 17/50\n",
      "50000/50000 [==============================] - 31s 614us/step - loss: 0.6130 - acc: 0.8488 - val_loss: 1.5746 - val_acc: 0.4643\n",
      "Epoch 18/50\n",
      "50000/50000 [==============================] - 31s 610us/step - loss: 0.5692 - acc: 0.8678 - val_loss: 1.5829 - val_acc: 0.4663\n",
      "Epoch 19/50\n",
      "50000/50000 [==============================] - 30s 608us/step - loss: 0.5275 - acc: 0.8838 - val_loss: 1.5955 - val_acc: 0.4655\n",
      "Epoch 20/50\n",
      "50000/50000 [==============================] - 31s 611us/step - loss: 0.4877 - acc: 0.9000 - val_loss: 1.6052 - val_acc: 0.4655\n",
      "Epoch 21/50\n",
      "50000/50000 [==============================] - 31s 621us/step - loss: 0.4510 - acc: 0.9136 - val_loss: 1.6158 - val_acc: 0.4656\n",
      "Epoch 22/50\n",
      "50000/50000 [==============================] - 31s 614us/step - loss: 0.4148 - acc: 0.9255 - val_loss: 1.6289 - val_acc: 0.4652\n",
      "Epoch 23/50\n",
      "50000/50000 [==============================] - 31s 615us/step - loss: 0.3830 - acc: 0.9364 - val_loss: 1.6411 - val_acc: 0.4645\n",
      "Epoch 24/50\n",
      "50000/50000 [==============================] - 30s 606us/step - loss: 0.3516 - acc: 0.9461 - val_loss: 1.6542 - val_acc: 0.4633\n",
      "Epoch 25/50\n",
      "50000/50000 [==============================] - 30s 608us/step - loss: 0.3228 - acc: 0.9550 - val_loss: 1.6696 - val_acc: 0.4626\n",
      "Epoch 26/50\n",
      "50000/50000 [==============================] - 31s 621us/step - loss: 0.2959 - acc: 0.9633 - val_loss: 1.6811 - val_acc: 0.4633\n",
      "Epoch 27/50\n",
      "50000/50000 [==============================] - 31s 614us/step - loss: 0.2718 - acc: 0.9689 - val_loss: 1.6972 - val_acc: 0.4650\n",
      "Epoch 28/50\n",
      "50000/50000 [==============================] - 30s 609us/step - loss: 0.2507 - acc: 0.9744 - val_loss: 1.7114 - val_acc: 0.4637\n",
      "Epoch 29/50\n",
      "50000/50000 [==============================] - 31s 623us/step - loss: 0.2300 - acc: 0.9794 - val_loss: 1.7298 - val_acc: 0.4650\n",
      "Epoch 30/50\n",
      "50000/50000 [==============================] - 32s 631us/step - loss: 0.2108 - acc: 0.9832 - val_loss: 1.7433 - val_acc: 0.4637\n",
      "Epoch 31/50\n",
      "50000/50000 [==============================] - 31s 621us/step - loss: 0.1938 - acc: 0.9859 - val_loss: 1.7574 - val_acc: 0.4622\n",
      "Epoch 32/50\n",
      "50000/50000 [==============================] - 30s 606us/step - loss: 0.1795 - acc: 0.9882 - val_loss: 1.7739 - val_acc: 0.4609\n",
      "Epoch 33/50\n",
      "50000/50000 [==============================] - 31s 615us/step - loss: 0.1644 - acc: 0.9909 - val_loss: 1.7892 - val_acc: 0.4641\n",
      "Epoch 34/50\n",
      "50000/50000 [==============================] - 30s 604us/step - loss: 0.1519 - acc: 0.9924 - val_loss: 1.8047 - val_acc: 0.4625\n",
      "Epoch 35/50\n",
      "50000/50000 [==============================] - 30s 607us/step - loss: 0.1402 - acc: 0.9942 - val_loss: 1.8182 - val_acc: 0.4643\n",
      "Epoch 36/50\n",
      "50000/50000 [==============================] - 31s 614us/step - loss: 0.1311 - acc: 0.9952 - val_loss: 1.8332 - val_acc: 0.4629\n",
      "Epoch 37/50\n",
      "50000/50000 [==============================] - 31s 612us/step - loss: 0.1209 - acc: 0.9963 - val_loss: 1.8485 - val_acc: 0.4630\n",
      "Epoch 38/50\n",
      "50000/50000 [==============================] - 31s 612us/step - loss: 0.1128 - acc: 0.9969 - val_loss: 1.8614 - val_acc: 0.4623\n",
      "Epoch 39/50\n",
      "50000/50000 [==============================] - 30s 604us/step - loss: 0.1045 - acc: 0.9977 - val_loss: 1.8741 - val_acc: 0.4630\n",
      "Epoch 40/50\n",
      "50000/50000 [==============================] - 31s 615us/step - loss: 0.0978 - acc: 0.9982 - val_loss: 1.8899 - val_acc: 0.4637\n",
      "Epoch 41/50\n",
      "50000/50000 [==============================] - 31s 621us/step - loss: 0.0916 - acc: 0.9984 - val_loss: 1.9019 - val_acc: 0.4629\n",
      "Epoch 42/50\n",
      "50000/50000 [==============================] - 31s 620us/step - loss: 0.0859 - acc: 0.9988 - val_loss: 1.9146 - val_acc: 0.4624\n",
      "Epoch 43/50\n",
      "50000/50000 [==============================] - 31s 620us/step - loss: 0.0804 - acc: 0.9990 - val_loss: 1.9264 - val_acc: 0.4630\n",
      "Epoch 44/50\n"
     ]
    },
    {
     "name": "stdout",
     "output_type": "stream",
     "text": [
      "50000/50000 [==============================] - 31s 610us/step - loss: 0.0756 - acc: 0.9992 - val_loss: 1.9375 - val_acc: 0.4625\n",
      "Epoch 45/50\n",
      "50000/50000 [==============================] - 31s 614us/step - loss: 0.0718 - acc: 0.9992 - val_loss: 1.9488 - val_acc: 0.4639\n",
      "Epoch 46/50\n",
      "50000/50000 [==============================] - 31s 611us/step - loss: 0.0674 - acc: 0.9995 - val_loss: 1.9620 - val_acc: 0.4640\n",
      "Epoch 47/50\n",
      "50000/50000 [==============================] - 31s 616us/step - loss: 0.0641 - acc: 0.9996 - val_loss: 1.9710 - val_acc: 0.4623\n",
      "Epoch 48/50\n",
      "50000/50000 [==============================] - 31s 620us/step - loss: 0.0606 - acc: 0.9995 - val_loss: 1.9828 - val_acc: 0.4641\n",
      "Epoch 49/50\n",
      "50000/50000 [==============================] - 31s 611us/step - loss: 0.0573 - acc: 0.9997 - val_loss: 1.9934 - val_acc: 0.4639\n",
      "Epoch 50/50\n",
      "50000/50000 [==============================] - 30s 607us/step - loss: 0.0548 - acc: 0.9997 - val_loss: 2.0030 - val_acc: 0.4631\n"
     ]
    }
   ],
   "source": [
    "# 載入 Callbacks\n",
    "\"\"\"Code Here\n",
    "設定 callbacks: model checkpoint\n",
    "\"\"\"\n",
    "from keras.callbacks import ModelCheckpoint\n",
    "\n",
    "model_ckpt = ModelCheckpoint(filepath=\"./tmp.h5\", \n",
    "                             monitor=\"val_loss\", \n",
    "                             save_best_only=True,\n",
    "                             save_weights_only=True)\n",
    "results = {}\n",
    "\"\"\"Code Here\n",
    "撰寫你的訓練流程並將結果用 dictionary 紀錄\n",
    "\"\"\"\n",
    "model = build_mlp(input_shape=x_train.shape[1:])\n",
    "model.summary()\n",
    "optimizer = keras.optimizers.SGD(lr=LEARNING_RATE, nesterov=True, momentum=MOMENTUM)\n",
    "model.compile(loss=\"categorical_crossentropy\", metrics=[\"accuracy\"], optimizer=optimizer)\n",
    "\n",
    "model.fit(x_train, y_train, \n",
    "          epochs=EPOCHS, \n",
    "          batch_size=BATCH_SIZE, \n",
    "          validation_data=(x_test, y_test), \n",
    "          shuffle=True,\n",
    "          callbacks=[model_ckpt]\n",
    "         )\n",
    "\n",
    "# Collect results\n",
    "train_loss = model.history.history[\"loss\"]\n",
    "valid_loss = model.history.history[\"val_loss\"]\n",
    "train_acc = model.history.history[\"acc\"]\n",
    "valid_acc = model.history.history[\"val_acc\"]"
   ]
  },
  {
   "cell_type": "code",
   "execution_count": 14,
   "metadata": {},
   "outputs": [
    {
     "name": "stdout",
     "output_type": "stream",
     "text": [
      "10000/10000 [==============================] - 6s 562us/step\n"
     ]
    }
   ],
   "source": [
    "# Load back\n",
    "model_load = build_mlp(input_shape=x_train.shape[1:])\n",
    "optimizer = keras.optimizers.SGD(lr=LEARNING_RATE, nesterov=True, momentum=MOMENTUM)\n",
    "model_load.compile(loss=\"categorical_crossentropy\", metrics=[\"accuracy\"], optimizer=optimizer)\n",
    "\n",
    "model_load.load_weights(\"./tmp.h5\")\n",
    "loss_loadback, acc_loadback = model_load.evaluate(x_test, y_test)"
   ]
  },
  {
   "cell_type": "code",
   "execution_count": 15,
   "metadata": {},
   "outputs": [
    {
     "data": {
      "image/png": "[encoded data removed]",
      "text/plain": [
       "<Figure size 432x288 with 1 Axes>"
      ]
     },
     "metadata": {
      "needs_background": "light"
     },
     "output_type": "display_data"
    },
    {
     "data": {
      "image/png": "[encoded data removed]",
      "text/plain": [
       "<Figure size 432x288 with 1 Axes>"
      ]
     },
     "metadata": {
      "needs_background": "light"
     },
     "output_type": "display_data"
    }
   ],
   "source": [
    "import matplotlib.pyplot as plt\n",
    "%matplotlib inline\n",
    "\"\"\"Code Here\n",
    "將結果繪出\n",
    "\"\"\"\n",
    "plt.plot(range(len(train_loss)), train_loss, label=\"train loss\")\n",
    "plt.plot(range(len(valid_loss)), valid_loss, label=\"valid loss\")\n",
    "plt.hlines(y=loss_loadback, xmin=0, xmax=len(train_loss), colors='r', linestyles='--')\n",
    "plt.legend()\n",
    "plt.title(\"Loss\")\n",
    "plt.show()\n",
    "\n",
    "plt.plot(range(len(train_acc)), train_acc, label=\"train accuracy\")\n",
    "plt.plot(range(len(valid_acc)), valid_acc, label=\"valid accuracy\")\n",
    "plt.hlines(y=acc_loadback, xmin=0, xmax=len(train_loss), colors='r', linestyles='--')\n",
    "plt.legend()\n",
    "plt.title(\"Accuracy\")\n",
    "plt.show()"
   ]
  },
  {
   "cell_type": "code",
   "execution_count": null,
   "metadata": {},
   "outputs": [],
   "source": []
  }
 ],
 "metadata": {
  "kernelspec": {
   "display_name": "Python 3",
   "language": "python",
   "name": "python3"
  },
  "language_info": {
   "codemirror_mode": {
    "name": "ipython",
    "version": 3
   },
   "file_extension": ".py",
   "mimetype": "text/x-python",
   "name": "python",
   "nbconvert_exporter": "python",
   "pygments_lexer": "ipython3",
   "version": "3.7.1"
  }
 },
 "nbformat": 4,
 "nbformat_minor": 2
}
