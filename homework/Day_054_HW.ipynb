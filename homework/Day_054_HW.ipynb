{
 "cells": [
  {
   "cell_type": "markdown",
   "metadata": {},
   "source": [
    "# 作業\n",
    "* 作業1：請觀看 Coursera Andrew Ng 教授的影片。影片裡會講授 unsupervised learning 概念，及會介紹很多其應用場景。\n",
    "[![影片連結](https://img.youtube.com/vi/jAA2g9ItoAc/0.jpg)](https://www.youtube.com/watch?v=jAA2g9ItoAc)\n",
    "* 作業2：試著想想看, 非監督學習是否有可能使用評價函數 (Metric) 來鑑別好壞呢?\n",
    "    * 有目標值:可以先忽略目標值做非監督學習，再使用目標值評估\n",
    "    * 無目標值:無監督式學習的衡量沒有標準方法，具體應用使得評估方法不同。以聚類分析可以使用距離度量與密度估計。\n",
    "\n",
    "(Hint : 可以分為 \"有目標值\" 與 \"無目標值\" 兩個方向思考)"
   ]
  },
  {
   "cell_type": "markdown",
   "metadata": {
    "collapsed": true
   },
   "source": [
    "#### 參考資料\n",
    "[Unsupervised learning：PCA](http://speech.ee.ntu.edu.tw/~tlkagk/courses/ML_2017/Lecture/PCA.mp4)\n",
    "\n",
    "[Scikit-learn unsupervised learning](http://scikit-learn.org/stable/unsupervised_learning.html)"
   ]
  },
  {
   "cell_type": "code",
   "execution_count": null,
   "metadata": {
    "collapsed": true
   },
   "outputs": [],
   "source": []
  }
 ],
 "metadata": {
  "kernelspec": {
   "display_name": "Python 3",
   "language": "python",
   "name": "python3"
  },
  "language_info": {
   "codemirror_mode": {
    "name": "ipython",
    "version": 3
   },
   "file_extension": ".py",
   "mimetype": "text/x-python",
   "name": "python",
   "nbconvert_exporter": "python",
   "pygments_lexer": "ipython3",
   "version": "3.6.8"
  }
 },
 "nbformat": 4,
 "nbformat_minor": 1
}
