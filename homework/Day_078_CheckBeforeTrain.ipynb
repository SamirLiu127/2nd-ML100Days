{
 "cells": [
  {
   "cell_type": "markdown",
   "metadata": {},
   "source": [
    "## 範例重點\n",
    "### 學習在模型開始前檢查各個環節\n",
    "1. 是否有 GPU 資源\n",
    "2. 將前處理轉為函式，統一處理訓練、驗證與測試集\n",
    "3. 將超參數變數化，易於重複使用函式、模型等"
   ]
  },
  {
   "cell_type": "code",
   "execution_count": null,
   "metadata": {},
   "outputs": [],
   "source": [
    "## 確認硬體資源 (如果你是在 Linux, 若是在 Windows, 請參考 https://blog.csdn.net/idwtwt/article/details/78017565)\n",
    "!nvidia-smi"
   ]
  },
  {
   "cell_type": "code",
   "execution_count": 1,
   "metadata": {},
   "outputs": [
    {
     "name": "stderr",
     "output_type": "stream",
     "text": [
      "Using TensorFlow backend.\n"
     ]
    }
   ],
   "source": [
    "import os\n",
    "import keras\n",
    "\n",
    "# 本範例不需使用 GPU, 將 GPU 設定為 \"無\"\n",
    "os.environ[\"CUDA_VISIBLE_DEVICES\"] = \"\""
   ]
  },
  {
   "cell_type": "code",
   "execution_count": 2,
   "metadata": {},
   "outputs": [],
   "source": [
    "# 從 Keras 的內建功能中，取得 train 與 test 資料集\n",
    "train, test = keras.datasets.cifar10.load_data()"
   ]
  },
  {
   "cell_type": "code",
   "execution_count": 3,
   "metadata": {},
   "outputs": [],
   "source": [
    "## 資料前處理\n",
    "def preproc_x(x, flatten=True):\n",
    "    x = x / 255.\n",
    "    if flatten:\n",
    "        x = x.reshape((len(x), -1))\n",
    "    return x\n",
    "\n",
    "def preproc_y(y, num_classes=10):\n",
    "    if y.shape[-1] == 1:\n",
    "        y = keras.utils.to_categorical(y, num_classes)\n",
    "    return y    "
   ]
  },
  {
   "cell_type": "code",
   "execution_count": 4,
   "metadata": {},
   "outputs": [],
   "source": [
    "x_train, y_train = train\n",
    "x_test, y_test = test\n",
    "\n",
    "# 資料前處理 - X 標準化\n",
    "x_train = preproc_x(x_train)\n",
    "x_test = preproc_x(x_test)\n",
    "\n",
    "# 資料前處理 -Y 轉成 onehot\n",
    "y_train = preproc_y(y_train)\n",
    "y_test = preproc_y(y_test)"
   ]
  },
  {
   "cell_type": "code",
   "execution_count": 5,
   "metadata": {},
   "outputs": [],
   "source": [
    "def build_mlp(input_shape, output_units=10, num_neurons=[512, 256, 128]):\n",
    "    input_layer = keras.layers.Input(input_shape)\n",
    "    \n",
    "    for i, n_units in enumerate(num_neurons):\n",
    "        if i == 0:\n",
    "            x = keras.layers.Dense(units=n_units, activation=\"relu\", name=\"hidden_layer\"+str(i+1))(input_layer)\n",
    "        else:\n",
    "            x = keras.layers.Dense(units=n_units, activation=\"relu\", name=\"hidden_layer\"+str(i+1))(x)\n",
    "    \n",
    "    out = keras.layers.Dense(units=output_units, activation=\"softmax\", name=\"output\")(x)\n",
    "    \n",
    "    model = keras.models.Model(inputs=[input_layer], outputs=[out])\n",
    "    return model"
   ]
  },
  {
   "cell_type": "code",
   "execution_count": 6,
   "metadata": {},
   "outputs": [
    {
     "name": "stderr",
     "output_type": "stream",
     "text": [
      "WARNING: Logging before flag parsing goes to stderr.\n",
      "W0725 14:25:15.790647 4575536576 deprecation_wrapper.py:119] From /Users/samir/anaconda3/envs/tensorflow/lib/python3.7/site-packages/keras/backend/tensorflow_backend.py:74: The name tf.get_default_graph is deprecated. Please use tf.compat.v1.get_default_graph instead.\n",
      "\n",
      "W0725 14:25:15.822603 4575536576 deprecation_wrapper.py:119] From /Users/samir/anaconda3/envs/tensorflow/lib/python3.7/site-packages/keras/backend/tensorflow_backend.py:517: The name tf.placeholder is deprecated. Please use tf.compat.v1.placeholder instead.\n",
      "\n",
      "W0725 14:25:15.835901 4575536576 deprecation_wrapper.py:119] From /Users/samir/anaconda3/envs/tensorflow/lib/python3.7/site-packages/keras/backend/tensorflow_backend.py:4138: The name tf.random_uniform is deprecated. Please use tf.random.uniform instead.\n",
      "\n"
     ]
    },
    {
     "name": "stdout",
     "output_type": "stream",
     "text": [
      "_________________________________________________________________\n",
      "Layer (type)                 Output Shape              Param #   \n",
      "=================================================================\n",
      "input_1 (InputLayer)         (None, 3072)              0         \n",
      "_________________________________________________________________\n",
      "hidden_layer1 (Dense)        (None, 512)               1573376   \n",
      "_________________________________________________________________\n",
      "hidden_layer2 (Dense)        (None, 256)               131328    \n",
      "_________________________________________________________________\n",
      "hidden_layer3 (Dense)        (None, 128)               32896     \n",
      "_________________________________________________________________\n",
      "output (Dense)               (None, 10)                1290      \n",
      "=================================================================\n",
      "Total params: 1,738,890\n",
      "Trainable params: 1,738,890\n",
      "Non-trainable params: 0\n",
      "_________________________________________________________________\n"
     ]
    }
   ],
   "source": [
    "model = build_mlp(input_shape=x_train.shape[1:])\n",
    "model.summary()"
   ]
  },
  {
   "cell_type": "code",
   "execution_count": 7,
   "metadata": {},
   "outputs": [],
   "source": [
    "## 超參數設定\n",
    "LEARNING_RATE = 0.001\n",
    "EPOCHS = 100\n",
    "BATCH_SIZE = 256"
   ]
  },
  {
   "cell_type": "code",
   "execution_count": 8,
   "metadata": {},
   "outputs": [
    {
     "name": "stderr",
     "output_type": "stream",
     "text": [
      "W0725 14:25:23.531246 4575536576 deprecation_wrapper.py:119] From /Users/samir/anaconda3/envs/tensorflow/lib/python3.7/site-packages/keras/optimizers.py:790: The name tf.train.Optimizer is deprecated. Please use tf.compat.v1.train.Optimizer instead.\n",
      "\n",
      "W0725 14:25:23.539787 4575536576 deprecation_wrapper.py:119] From /Users/samir/anaconda3/envs/tensorflow/lib/python3.7/site-packages/keras/backend/tensorflow_backend.py:3295: The name tf.log is deprecated. Please use tf.math.log instead.\n",
      "\n"
     ]
    }
   ],
   "source": [
    "optimizer = keras.optimizers.Adam(lr=LEARNING_RATE)\n",
    "model.compile(loss=\"categorical_crossentropy\", metrics=[\"accuracy\"], optimizer=optimizer)"
   ]
  },
  {
   "cell_type": "code",
   "execution_count": 9,
   "metadata": {
    "scrolled": true
   },
   "outputs": [
    {
     "name": "stderr",
     "output_type": "stream",
     "text": [
      "W0725 14:25:27.764421 4575536576 deprecation.py:323] From /Users/samir/anaconda3/envs/tensorflow/lib/python3.7/site-packages/tensorflow/python/ops/math_grad.py:1250: add_dispatch_support.<locals>.wrapper (from tensorflow.python.ops.array_ops) is deprecated and will be removed in a future version.\n",
      "Instructions for updating:\n",
      "Use tf.where in 2.0, which has the same broadcast rule as np.where\n",
      "W0725 14:25:27.810508 4575536576 deprecation_wrapper.py:119] From /Users/samir/anaconda3/envs/tensorflow/lib/python3.7/site-packages/keras/backend/tensorflow_backend.py:986: The name tf.assign_add is deprecated. Please use tf.compat.v1.assign_add instead.\n",
      "\n"
     ]
    },
    {
     "name": "stdout",
     "output_type": "stream",
     "text": [
      "Train on 50000 samples, validate on 10000 samples\n",
      "Epoch 1/100\n",
      "50000/50000 [==============================] - 7s 147us/step - loss: 1.9177 - acc: 0.3108 - val_loss: 1.7588 - val_acc: 0.3673\n",
      "Epoch 2/100\n",
      "50000/50000 [==============================] - 7s 148us/step - loss: 1.6947 - acc: 0.3942 - val_loss: 1.6351 - val_acc: 0.4130\n",
      "Epoch 3/100\n",
      "50000/50000 [==============================] - 10s 199us/step - loss: 1.6054 - acc: 0.4278 - val_loss: 1.5443 - val_acc: 0.4468\n",
      "Epoch 4/100\n",
      "50000/50000 [==============================] - 8s 160us/step - loss: 1.5442 - acc: 0.4512 - val_loss: 1.5473 - val_acc: 0.4445\n",
      "Epoch 5/100\n",
      "50000/50000 [==============================] - 9s 187us/step - loss: 1.4975 - acc: 0.4668 - val_loss: 1.5294 - val_acc: 0.4500\n",
      "Epoch 6/100\n",
      "50000/50000 [==============================] - 8s 156us/step - loss: 1.4638 - acc: 0.4773 - val_loss: 1.5351 - val_acc: 0.4462\n",
      "Epoch 7/100\n",
      "50000/50000 [==============================] - 7s 150us/step - loss: 1.4214 - acc: 0.4936 - val_loss: 1.4731 - val_acc: 0.4799\n",
      "Epoch 8/100\n",
      "50000/50000 [==============================] - 7s 148us/step - loss: 1.3956 - acc: 0.5047 - val_loss: 1.4577 - val_acc: 0.4795\n",
      "Epoch 9/100\n",
      "50000/50000 [==============================] - 9s 174us/step - loss: 1.3706 - acc: 0.5094 - val_loss: 1.4395 - val_acc: 0.4882\n",
      "Epoch 10/100\n",
      "50000/50000 [==============================] - 8s 160us/step - loss: 1.3429 - acc: 0.5208 - val_loss: 1.4799 - val_acc: 0.4768\n",
      "Epoch 11/100\n",
      "50000/50000 [==============================] - 8s 154us/step - loss: 1.3214 - acc: 0.5296 - val_loss: 1.4237 - val_acc: 0.4940\n",
      "Epoch 12/100\n",
      "50000/50000 [==============================] - 7s 138us/step - loss: 1.2925 - acc: 0.5412 - val_loss: 1.3921 - val_acc: 0.5128\n",
      "Epoch 13/100\n",
      "50000/50000 [==============================] - 7s 145us/step - loss: 1.2654 - acc: 0.5507 - val_loss: 1.4042 - val_acc: 0.5050\n",
      "Epoch 14/100\n",
      "50000/50000 [==============================] - 8s 166us/step - loss: 1.2433 - acc: 0.5567 - val_loss: 1.3693 - val_acc: 0.5190\n",
      "Epoch 15/100\n",
      "50000/50000 [==============================] - 7s 143us/step - loss: 1.2211 - acc: 0.5653 - val_loss: 1.4014 - val_acc: 0.5029\n",
      "Epoch 16/100\n",
      "50000/50000 [==============================] - 7s 140us/step - loss: 1.1971 - acc: 0.5743 - val_loss: 1.3852 - val_acc: 0.5108\n",
      "Epoch 17/100\n",
      "50000/50000 [==============================] - 7s 143us/step - loss: 1.1771 - acc: 0.5791 - val_loss: 1.3765 - val_acc: 0.5190\n",
      "Epoch 18/100\n",
      "50000/50000 [==============================] - 9s 173us/step - loss: 1.1619 - acc: 0.5848 - val_loss: 1.3948 - val_acc: 0.5153\n",
      "Epoch 19/100\n",
      "50000/50000 [==============================] - 9s 181us/step - loss: 1.1367 - acc: 0.5964 - val_loss: 1.3701 - val_acc: 0.5191\n",
      "Epoch 20/100\n",
      "50000/50000 [==============================] - 9s 171us/step - loss: 1.1202 - acc: 0.6026 - val_loss: 1.3719 - val_acc: 0.5238\n",
      "Epoch 21/100\n",
      "50000/50000 [==============================] - 8s 150us/step - loss: 1.0886 - acc: 0.6131 - val_loss: 1.4075 - val_acc: 0.5159\n",
      "Epoch 22/100\n",
      "50000/50000 [==============================] - 8s 163us/step - loss: 1.0856 - acc: 0.6136 - val_loss: 1.4016 - val_acc: 0.5219\n",
      "Epoch 23/100\n",
      "50000/50000 [==============================] - 8s 160us/step - loss: 1.0637 - acc: 0.6225 - val_loss: 1.4372 - val_acc: 0.5107\n",
      "Epoch 24/100\n",
      "50000/50000 [==============================] - 7s 141us/step - loss: 1.0342 - acc: 0.6311 - val_loss: 1.4802 - val_acc: 0.5047\n",
      "Epoch 25/100\n",
      "50000/50000 [==============================] - 7s 146us/step - loss: 1.0102 - acc: 0.6385 - val_loss: 1.3984 - val_acc: 0.5208\n",
      "Epoch 26/100\n",
      "50000/50000 [==============================] - 8s 158us/step - loss: 0.9945 - acc: 0.6470 - val_loss: 1.4033 - val_acc: 0.5267\n",
      "Epoch 27/100\n",
      "50000/50000 [==============================] - 7s 143us/step - loss: 0.9801 - acc: 0.6504 - val_loss: 1.3911 - val_acc: 0.5337\n",
      "Epoch 28/100\n",
      "50000/50000 [==============================] - 8s 151us/step - loss: 0.9693 - acc: 0.6536 - val_loss: 1.4599 - val_acc: 0.5225\n",
      "Epoch 29/100\n",
      "50000/50000 [==============================] - 7s 143us/step - loss: 0.9400 - acc: 0.6671 - val_loss: 1.4127 - val_acc: 0.5338\n",
      "Epoch 30/100\n",
      "50000/50000 [==============================] - 7s 140us/step - loss: 0.9203 - acc: 0.6707 - val_loss: 1.4592 - val_acc: 0.5201\n",
      "Epoch 31/100\n",
      "50000/50000 [==============================] - 7s 141us/step - loss: 0.9207 - acc: 0.6732 - val_loss: 1.4532 - val_acc: 0.5302\n",
      "Epoch 32/100\n",
      "50000/50000 [==============================] - 7s 138us/step - loss: 0.8902 - acc: 0.6824 - val_loss: 1.4881 - val_acc: 0.5233\n",
      "Epoch 33/100\n",
      "50000/50000 [==============================] - 7s 143us/step - loss: 0.8764 - acc: 0.6890 - val_loss: 1.4408 - val_acc: 0.5299\n",
      "Epoch 34/100\n",
      "50000/50000 [==============================] - 8s 153us/step - loss: 0.8455 - acc: 0.6973 - val_loss: 1.5110 - val_acc: 0.5277\n",
      "Epoch 35/100\n",
      "50000/50000 [==============================] - 8s 163us/step - loss: 0.8312 - acc: 0.7043 - val_loss: 1.5181 - val_acc: 0.5212\n",
      "Epoch 36/100\n",
      "50000/50000 [==============================] - 7s 147us/step - loss: 0.8218 - acc: 0.7068 - val_loss: 1.5192 - val_acc: 0.5279\n",
      "Epoch 37/100\n",
      "50000/50000 [==============================] - 7s 141us/step - loss: 0.8106 - acc: 0.7107 - val_loss: 1.6026 - val_acc: 0.5126\n",
      "Epoch 38/100\n",
      "50000/50000 [==============================] - 8s 150us/step - loss: 0.7881 - acc: 0.7216 - val_loss: 1.6061 - val_acc: 0.5180\n",
      "Epoch 39/100\n",
      "50000/50000 [==============================] - 8s 155us/step - loss: 0.7691 - acc: 0.7249 - val_loss: 1.5624 - val_acc: 0.5235\n",
      "Epoch 40/100\n",
      "50000/50000 [==============================] - 7s 145us/step - loss: 0.7568 - acc: 0.7307 - val_loss: 1.5627 - val_acc: 0.5263\n",
      "Epoch 41/100\n",
      "50000/50000 [==============================] - 7s 144us/step - loss: 0.7363 - acc: 0.7368 - val_loss: 1.5873 - val_acc: 0.5304\n",
      "Epoch 42/100\n",
      "50000/50000 [==============================] - 7s 139us/step - loss: 0.7230 - acc: 0.7409 - val_loss: 1.7294 - val_acc: 0.5135\n",
      "Epoch 43/100\n",
      "50000/50000 [==============================] - 8s 160us/step - loss: 0.7199 - acc: 0.7433 - val_loss: 1.6376 - val_acc: 0.5247\n",
      "Epoch 44/100\n",
      "50000/50000 [==============================] - 7s 143us/step - loss: 0.6823 - acc: 0.7573 - val_loss: 1.6785 - val_acc: 0.5308\n",
      "Epoch 45/100\n",
      "50000/50000 [==============================] - 8s 160us/step - loss: 0.6716 - acc: 0.7601 - val_loss: 1.6699 - val_acc: 0.5279\n",
      "Epoch 46/100\n",
      "50000/50000 [==============================] - 9s 173us/step - loss: 0.6527 - acc: 0.7660 - val_loss: 1.7634 - val_acc: 0.5174\n",
      "Epoch 47/100\n",
      "50000/50000 [==============================] - 9s 174us/step - loss: 0.6428 - acc: 0.7706 - val_loss: 1.8017 - val_acc: 0.5067\n",
      "Epoch 48/100\n",
      "50000/50000 [==============================] - 9s 184us/step - loss: 0.6536 - acc: 0.7653 - val_loss: 1.7664 - val_acc: 0.5223\n",
      "Epoch 49/100\n",
      "50000/50000 [==============================] - 9s 176us/step - loss: 0.6258 - acc: 0.7753 - val_loss: 1.7473 - val_acc: 0.5270\n",
      "Epoch 50/100\n",
      "50000/50000 [==============================] - 10s 194us/step - loss: 0.5961 - acc: 0.7868 - val_loss: 1.8305 - val_acc: 0.5229\n",
      "Epoch 51/100\n",
      "50000/50000 [==============================] - 9s 178us/step - loss: 0.6036 - acc: 0.7842 - val_loss: 1.8245 - val_acc: 0.5197\n",
      "Epoch 52/100\n",
      "50000/50000 [==============================] - 9s 184us/step - loss: 0.5925 - acc: 0.7894 - val_loss: 1.8593 - val_acc: 0.5199\n",
      "Epoch 53/100\n",
      "50000/50000 [==============================] - 8s 167us/step - loss: 0.5733 - acc: 0.7943 - val_loss: 1.9159 - val_acc: 0.5103\n",
      "Epoch 54/100\n",
      "50000/50000 [==============================] - 9s 174us/step - loss: 0.5645 - acc: 0.7978 - val_loss: 1.8542 - val_acc: 0.5235\n",
      "Epoch 55/100\n",
      "50000/50000 [==============================] - 9s 183us/step - loss: 0.5644 - acc: 0.7976 - val_loss: 1.9439 - val_acc: 0.5078\n",
      "Epoch 56/100\n",
      "50000/50000 [==============================] - 7s 150us/step - loss: 0.5349 - acc: 0.8083 - val_loss: 1.9503 - val_acc: 0.5192\n",
      "Epoch 57/100\n",
      "50000/50000 [==============================] - 8s 154us/step - loss: 0.5237 - acc: 0.8151 - val_loss: 1.9920 - val_acc: 0.5205\n",
      "Epoch 58/100\n",
      "50000/50000 [==============================] - 8s 161us/step - loss: 0.5229 - acc: 0.8123 - val_loss: 1.9921 - val_acc: 0.5100\n",
      "Epoch 59/100\n"
     ]
    },
    {
     "name": "stdout",
     "output_type": "stream",
     "text": [
      "50000/50000 [==============================] - 7s 148us/step - loss: 0.5067 - acc: 0.8196 - val_loss: 2.0426 - val_acc: 0.5201\n",
      "Epoch 60/100\n",
      "50000/50000 [==============================] - 9s 178us/step - loss: 0.5023 - acc: 0.8209 - val_loss: 2.1176 - val_acc: 0.5137\n",
      "Epoch 61/100\n",
      "50000/50000 [==============================] - 11s 213us/step - loss: 0.4860 - acc: 0.8282 - val_loss: 2.0577 - val_acc: 0.5150\n",
      "Epoch 62/100\n",
      "50000/50000 [==============================] - 8s 157us/step - loss: 0.4892 - acc: 0.8251 - val_loss: 2.0887 - val_acc: 0.5142\n",
      "Epoch 63/100\n",
      "50000/50000 [==============================] - 7s 146us/step - loss: 0.4765 - acc: 0.8303 - val_loss: 2.2533 - val_acc: 0.5062\n",
      "Epoch 64/100\n",
      "50000/50000 [==============================] - 8s 158us/step - loss: 0.4509 - acc: 0.8377 - val_loss: 2.1748 - val_acc: 0.5101\n",
      "Epoch 65/100\n",
      "50000/50000 [==============================] - 8s 161us/step - loss: 0.4519 - acc: 0.8394 - val_loss: 2.2424 - val_acc: 0.5121\n",
      "Epoch 66/100\n",
      "50000/50000 [==============================] - 8s 168us/step - loss: 0.4477 - acc: 0.8401 - val_loss: 2.2484 - val_acc: 0.5093\n",
      "Epoch 67/100\n",
      "50000/50000 [==============================] - 8s 155us/step - loss: 0.4278 - acc: 0.8469 - val_loss: 2.2523 - val_acc: 0.5163\n",
      "Epoch 68/100\n",
      "50000/50000 [==============================] - 7s 150us/step - loss: 0.4194 - acc: 0.8492 - val_loss: 2.3490 - val_acc: 0.5122\n",
      "Epoch 69/100\n",
      "50000/50000 [==============================] - 8s 158us/step - loss: 0.4159 - acc: 0.8519 - val_loss: 2.3465 - val_acc: 0.5045\n",
      "Epoch 70/100\n",
      "50000/50000 [==============================] - 8s 151us/step - loss: 0.4154 - acc: 0.8513 - val_loss: 2.3709 - val_acc: 0.5133\n",
      "Epoch 71/100\n",
      "50000/50000 [==============================] - 8s 157us/step - loss: 0.4009 - acc: 0.8581 - val_loss: 2.3768 - val_acc: 0.5158\n",
      "Epoch 72/100\n",
      "50000/50000 [==============================] - 8s 159us/step - loss: 0.3946 - acc: 0.8597 - val_loss: 2.3803 - val_acc: 0.5185\n",
      "Epoch 73/100\n",
      "50000/50000 [==============================] - 8s 152us/step - loss: 0.3997 - acc: 0.8565 - val_loss: 2.5327 - val_acc: 0.5012\n",
      "Epoch 74/100\n",
      "50000/50000 [==============================] - 10s 194us/step - loss: 0.3884 - acc: 0.8610 - val_loss: 2.5192 - val_acc: 0.5034\n",
      "Epoch 75/100\n",
      "50000/50000 [==============================] - 11s 213us/step - loss: 0.3872 - acc: 0.8610 - val_loss: 2.5213 - val_acc: 0.5098\n",
      "Epoch 76/100\n",
      "50000/50000 [==============================] - 8s 155us/step - loss: 0.3800 - acc: 0.8640 - val_loss: 2.5291 - val_acc: 0.5117\n",
      "Epoch 77/100\n",
      "50000/50000 [==============================] - 8s 163us/step - loss: 0.3616 - acc: 0.8693 - val_loss: 2.6150 - val_acc: 0.5063\n",
      "Epoch 78/100\n",
      "50000/50000 [==============================] - 7s 149us/step - loss: 0.3445 - acc: 0.8762 - val_loss: 2.5992 - val_acc: 0.5081\n",
      "Epoch 79/100\n",
      "50000/50000 [==============================] - 8s 166us/step - loss: 0.3595 - acc: 0.8708 - val_loss: 2.7283 - val_acc: 0.5004\n",
      "Epoch 80/100\n",
      "50000/50000 [==============================] - 8s 168us/step - loss: 0.3535 - acc: 0.8735 - val_loss: 2.7938 - val_acc: 0.4877\n",
      "Epoch 81/100\n",
      "50000/50000 [==============================] - 8s 164us/step - loss: 0.3502 - acc: 0.8740 - val_loss: 2.6542 - val_acc: 0.5058\n",
      "Epoch 82/100\n",
      "50000/50000 [==============================] - 8s 153us/step - loss: 0.3230 - acc: 0.8838 - val_loss: 2.7215 - val_acc: 0.5038\n",
      "Epoch 83/100\n",
      "50000/50000 [==============================] - 8s 155us/step - loss: 0.3289 - acc: 0.8834 - val_loss: 2.7977 - val_acc: 0.4999\n",
      "Epoch 84/100\n",
      "50000/50000 [==============================] - 8s 153us/step - loss: 0.3082 - acc: 0.8902 - val_loss: 2.8369 - val_acc: 0.5029\n",
      "Epoch 85/100\n",
      "50000/50000 [==============================] - 8s 161us/step - loss: 0.3260 - acc: 0.8857 - val_loss: 2.7536 - val_acc: 0.5046\n",
      "Epoch 86/100\n",
      "50000/50000 [==============================] - 8s 152us/step - loss: 0.3367 - acc: 0.8776 - val_loss: 2.8623 - val_acc: 0.5071\n",
      "Epoch 87/100\n",
      "50000/50000 [==============================] - 7s 149us/step - loss: 0.3238 - acc: 0.8839 - val_loss: 2.8628 - val_acc: 0.5057\n",
      "Epoch 88/100\n",
      "50000/50000 [==============================] - 7s 142us/step - loss: 0.2946 - acc: 0.8943 - val_loss: 2.9617 - val_acc: 0.5035\n",
      "Epoch 89/100\n",
      "50000/50000 [==============================] - 8s 156us/step - loss: 0.2918 - acc: 0.8957 - val_loss: 2.8936 - val_acc: 0.4986\n",
      "Epoch 90/100\n",
      "50000/50000 [==============================] - 7s 147us/step - loss: 0.3071 - acc: 0.8896 - val_loss: 2.8805 - val_acc: 0.5039\n",
      "Epoch 91/100\n",
      "50000/50000 [==============================] - 7s 146us/step - loss: 0.2757 - acc: 0.9032 - val_loss: 3.0035 - val_acc: 0.5099\n",
      "Epoch 92/100\n",
      "50000/50000 [==============================] - 7s 149us/step - loss: 0.2880 - acc: 0.8978 - val_loss: 3.0743 - val_acc: 0.5000\n",
      "Epoch 93/100\n",
      "50000/50000 [==============================] - 7s 146us/step - loss: 0.2771 - acc: 0.9018 - val_loss: 2.9709 - val_acc: 0.5089\n",
      "Epoch 94/100\n",
      "50000/50000 [==============================] - 7s 149us/step - loss: 0.2854 - acc: 0.8989 - val_loss: 3.0128 - val_acc: 0.5014\n",
      "Epoch 95/100\n",
      "50000/50000 [==============================] - 7s 148us/step - loss: 0.3037 - acc: 0.8912 - val_loss: 3.1355 - val_acc: 0.5035\n",
      "Epoch 96/100\n",
      "50000/50000 [==============================] - 7s 147us/step - loss: 0.3085 - acc: 0.8892 - val_loss: 3.0860 - val_acc: 0.5026\n",
      "Epoch 97/100\n",
      "50000/50000 [==============================] - 7s 147us/step - loss: 0.2800 - acc: 0.8996 - val_loss: 3.0687 - val_acc: 0.4987\n",
      "Epoch 98/100\n",
      "50000/50000 [==============================] - 7s 143us/step - loss: 0.2758 - acc: 0.9011 - val_loss: 3.0963 - val_acc: 0.5022\n",
      "Epoch 99/100\n",
      "50000/50000 [==============================] - 8s 157us/step - loss: 0.2817 - acc: 0.8986 - val_loss: 3.1470 - val_acc: 0.4988\n",
      "Epoch 100/100\n",
      "50000/50000 [==============================] - 8s 164us/step - loss: 0.2490 - acc: 0.9102 - val_loss: 3.1234 - val_acc: 0.5061\n"
     ]
    },
    {
     "data": {
      "text/plain": [
       "<keras.callbacks.History at 0x12c0e31d0>"
      ]
     },
     "execution_count": 9,
     "metadata": {},
     "output_type": "execute_result"
    }
   ],
   "source": [
    "model.fit(x_train, y_train, \n",
    "          epochs=EPOCHS, \n",
    "          batch_size=BATCH_SIZE, \n",
    "          validation_data=(x_test, y_test), \n",
    "          shuffle=True)"
   ]
  },
  {
   "cell_type": "code",
   "execution_count": 11,
   "metadata": {},
   "outputs": [
    {
     "data": {
      "image/png": "[encoded data removed]",
      "text/plain": [
       "<Figure size 432x288 with 1 Axes>"
      ]
     },
     "metadata": {
      "needs_background": "light"
     },
     "output_type": "display_data"
    },
    {
     "data": {
      "image/png": "[encoded data removed]",
      "text/plain": [
       "<Figure size 432x288 with 1 Axes>"
      ]
     },
     "metadata": {
      "needs_background": "light"
     },
     "output_type": "display_data"
    }
   ],
   "source": [
    "# 訓練模型並檢視驗證集的結果\n",
    "import matplotlib.pyplot as plt\n",
    "\n",
    "train_loss = model.history.history[\"loss\"]\n",
    "valid_loss = model.history.history[\"val_loss\"]\n",
    "\n",
    "train_acc = model.history.history[\"acc\"]\n",
    "valid_acc = model.history.history[\"val_acc\"]\n",
    "\n",
    "plt.plot(range(len(train_loss)), train_loss, label=\"train loss\")\n",
    "plt.plot(range(len(valid_loss)), valid_loss, label=\"valid loss\")\n",
    "plt.legend()\n",
    "plt.title(\"Loss\")\n",
    "plt.show()\n",
    "\n",
    "plt.plot(range(len(train_acc)), train_acc, label=\"train accuracy\")\n",
    "plt.plot(range(len(valid_acc)), valid_acc, label=\"valid accuracy\")\n",
    "plt.legend()\n",
    "plt.title(\"Accuracy\")\n",
    "plt.show()"
   ]
  },
  {
   "cell_type": "markdown",
   "metadata": {},
   "source": [
    "## Work\n",
    "1. 請嘗試將 preproc_x 替換成以每筆資料的 min/max 進行標準化至 -1 ~ 1 間，再進行訓練\n",
    "2. 請嘗試將 mlp 疊更深 (e.g 5~10 層)，進行訓練後觀察 learning curve 的走勢\n",
    "3. (optional) 請改用 GPU 進行訓練 (如果你有 GPU 的話)，比較使用 CPU 與 GPU 的訓練速度"
   ]
  },
  {
   "cell_type": "markdown",
   "metadata": {},
   "source": [
    "## 參考資料\n",
    "### 如何 Debugging 1/2\n",
    "- 檢查程式碼\n",
    "    - 養成好的程式撰寫習慣 (PEP8)\n",
    "- 確認參數設定\n",
    "- 欲實作的模型是否合適當前的資料\n",
    "- 確認資料結構\n",
    "- 資料是否足夠\n",
    "- 是否乾淨\n",
    "- 是否有適當的前處理\n",
    "![](https://ai100-fileentity.cupoy.com/2nd/homework/D78/1562834450948/large)"
   ]
  },
  {
   "cell_type": "markdown",
   "metadata": {},
   "source": [
    "### 如何 Debugging 2/2\n",
    "- 以簡單的方式實現想法\n",
    "- 建立評估機制\n",
    "- 開始循環測試 (evaluate - tuning - debugging)\n",
    "![](https://ai100-fileentity.cupoy.com/2nd/homework/D78/1562834573759/large)"
   ]
  },
  {
   "cell_type": "markdown",
   "metadata": {},
   "source": [
    "### 參考連結：\n",
    "\n",
    "[養成良好 Coding Style: Python Coding Style – PEP8](https://www.python.org/dev/peps/pep-0008/)\n",
    "\n",
    "[Troubleshooting Deep Neural Network – A Field Guide to Fix your Model](http://josh-tobin.com/assets/pdf/troubleshooting-deep-neural-networks-01-19.pdf)"
   ]
  },
  {
   "cell_type": "code",
   "execution_count": null,
   "metadata": {},
   "outputs": [],
   "source": []
  }
 ],
 "metadata": {
  "kernelspec": {
   "display_name": "Python [conda env:tensorflow]",
   "language": "python",
   "name": "conda-env-tensorflow-py"
  },
  "language_info": {
   "codemirror_mode": {
    "name": "ipython",
    "version": 3
   },
   "file_extension": ".py",
   "mimetype": "text/x-python",
   "name": "python",
   "nbconvert_exporter": "python",
   "pygments_lexer": "ipython3",
   "version": "3.7.3"
  }
 },
 "nbformat": 4,
 "nbformat_minor": 2
}
