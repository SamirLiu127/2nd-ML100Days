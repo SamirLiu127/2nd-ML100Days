{
 "cells": [
  {
   "cell_type": "markdown",
   "metadata": {},
   "source": [
    "## 範例重點\n",
    "* 學會從 Keras 內建函式取得資料\n",
    "* 能夠建立簡易的深度學習模型\n",
    "* 觀察並了解 Overfit 現象"
   ]
  },
  {
   "cell_type": "code",
   "execution_count": 1,
   "metadata": {},
   "outputs": [
    {
     "name": "stderr",
     "output_type": "stream",
     "text": [
      "Using TensorFlow backend.\n"
     ]
    }
   ],
   "source": [
    "import os\n",
    "import keras\n",
    "\n",
    "# 本範例不需使用 GPU, 將 GPU 設定為 \"無\"\n",
    "os.environ[\"CUDA_VISIBLE_DEVICES\"] = \"\""
   ]
  },
  {
   "cell_type": "code",
   "execution_count": 2,
   "metadata": {},
   "outputs": [],
   "source": [
    "# 從 Keras 的內建功能中，取得 train 與 test 資料集\n",
    "train, test = keras.datasets.cifar10.load_data()"
   ]
  },
  {
   "cell_type": "code",
   "execution_count": 3,
   "metadata": {},
   "outputs": [],
   "source": [
    "# 將 X 與 Y 獨立放進變數\n",
    "x_train, y_train = train\n",
    "x_test, y_test = test\n",
    "# 資料前處理 - 標準化\n",
    "x_train = x_train / 255.\n",
    "x_test = x_test / 255.\n",
    "\n",
    "# 將資料從圖形 (RGB) 轉為向量 (Single Vector)\n",
    "x_train = x_train.reshape((len(x_train), -1))\n",
    "x_test = x_test.reshape((len(x_test), -1))\n",
    "\n",
    "# 將目標轉為 one-hot encoding\n",
    "y_train = keras.utils.to_categorical(y_train, num_classes=10)\n",
    "y_test = keras.utils.to_categorical(y_test, num_classes=10)"
   ]
  },
  {
   "cell_type": "code",
   "execution_count": 4,
   "metadata": {},
   "outputs": [],
   "source": [
    "# 建立一個有三層隱藏層之神經網路\n",
    "def build_mlp():\n",
    "    input_layer = keras.layers.Input([x_train.shape[-1]])\n",
    "    x = keras.layers.Dense(units=512, activation=\"relu\")(input_layer)\n",
    "    x = keras.layers.Dense(units=256, activation=\"relu\")(x)\n",
    "    x = keras.layers.Dense(units=128, activation=\"relu\")(x)\n",
    "    out = keras.layers.Dense(units=10, activation=\"softmax\")(x)\n",
    "    \n",
    "    model = keras.models.Model(inputs=[input_layer], outputs=[out])\n",
    "    return model"
   ]
  },
  {
   "cell_type": "code",
   "execution_count": 5,
   "metadata": {},
   "outputs": [
    {
     "name": "stderr",
     "output_type": "stream",
     "text": [
      "WARNING: Logging before flag parsing goes to stderr.\n",
      "W0724 22:09:45.428964 11732 deprecation_wrapper.py:119] From C:\\Users\\Sims_Home\\Anaconda3\\lib\\site-packages\\keras\\backend\\tensorflow_backend.py:74: The name tf.get_default_graph is deprecated. Please use tf.compat.v1.get_default_graph instead.\n",
      "\n",
      "W0724 22:09:45.478829 11732 deprecation_wrapper.py:119] From C:\\Users\\Sims_Home\\Anaconda3\\lib\\site-packages\\keras\\backend\\tensorflow_backend.py:517: The name tf.placeholder is deprecated. Please use tf.compat.v1.placeholder instead.\n",
      "\n",
      "W0724 22:09:45.488803 11732 deprecation_wrapper.py:119] From C:\\Users\\Sims_Home\\Anaconda3\\lib\\site-packages\\keras\\backend\\tensorflow_backend.py:4138: The name tf.random_uniform is deprecated. Please use tf.random.uniform instead.\n",
      "\n",
      "W0724 22:09:45.566595 11732 deprecation_wrapper.py:119] From C:\\Users\\Sims_Home\\Anaconda3\\lib\\site-packages\\keras\\optimizers.py:790: The name tf.train.Optimizer is deprecated. Please use tf.compat.v1.train.Optimizer instead.\n",
      "\n",
      "W0724 22:09:45.575594 11732 deprecation_wrapper.py:119] From C:\\Users\\Sims_Home\\Anaconda3\\lib\\site-packages\\keras\\backend\\tensorflow_backend.py:3295: The name tf.log is deprecated. Please use tf.math.log instead.\n",
      "\n"
     ]
    },
    {
     "name": "stdout",
     "output_type": "stream",
     "text": [
      "_________________________________________________________________\n",
      "Layer (type)                 Output Shape              Param #   \n",
      "=================================================================\n",
      "input_1 (InputLayer)         (None, 3072)              0         \n",
      "_________________________________________________________________\n",
      "dense_1 (Dense)              (None, 512)               1573376   \n",
      "_________________________________________________________________\n",
      "dense_2 (Dense)              (None, 256)               131328    \n",
      "_________________________________________________________________\n",
      "dense_3 (Dense)              (None, 128)               32896     \n",
      "_________________________________________________________________\n",
      "dense_4 (Dense)              (None, 10)                1290      \n",
      "=================================================================\n",
      "Total params: 1,738,890\n",
      "Trainable params: 1,738,890\n",
      "Non-trainable params: 0\n",
      "_________________________________________________________________\n"
     ]
    }
   ],
   "source": [
    "model = build_mlp()\n",
    "# 用 Keras 內建方法檢視模型各層參數量\n",
    "model.summary()\n",
    "\n",
    "optimizer = keras.optimizers.Adam(lr=0.001)\n",
    "model.compile(loss=\"categorical_crossentropy\", metrics=[\"accuracy\"], optimizer=optimizer)"
   ]
  },
  {
   "cell_type": "code",
   "execution_count": 6,
   "metadata": {},
   "outputs": [
    {
     "name": "stderr",
     "output_type": "stream",
     "text": [
      "W0724 22:09:45.703252 11732 deprecation.py:323] From C:\\Users\\Sims_Home\\Anaconda3\\lib\\site-packages\\tensorflow\\python\\ops\\math_grad.py:1250: add_dispatch_support.<locals>.wrapper (from tensorflow.python.ops.array_ops) is deprecated and will be removed in a future version.\n",
      "Instructions for updating:\n",
      "Use tf.where in 2.0, which has the same broadcast rule as np.where\n",
      "W0724 22:09:45.770052 11732 deprecation_wrapper.py:119] From C:\\Users\\Sims_Home\\Anaconda3\\lib\\site-packages\\keras\\backend\\tensorflow_backend.py:986: The name tf.assign_add is deprecated. Please use tf.compat.v1.assign_add instead.\n",
      "\n"
     ]
    },
    {
     "name": "stdout",
     "output_type": "stream",
     "text": [
      "Train on 50000 samples, validate on 10000 samples\n",
      "Epoch 1/100\n",
      "50000/50000 [==============================] - 12s 241us/step - loss: 1.9247 - acc: 0.3034 - val_loss: 1.7974 - val_acc: 0.3545\n",
      "Epoch 2/100\n",
      "50000/50000 [==============================] - 12s 244us/step - loss: 1.7058 - acc: 0.3908 - val_loss: 1.6443 - val_acc: 0.4112\n",
      "Epoch 3/100\n",
      "50000/50000 [==============================] - 12s 233us/step - loss: 1.6254 - acc: 0.4218 - val_loss: 1.5595 - val_acc: 0.4463\n",
      "Epoch 4/100\n",
      "50000/50000 [==============================] - 12s 240us/step - loss: 1.5647 - acc: 0.4419 - val_loss: 1.5437 - val_acc: 0.4563\n",
      "Epoch 5/100\n",
      "50000/50000 [==============================] - 11s 230us/step - loss: 1.5092 - acc: 0.4625 - val_loss: 1.5279 - val_acc: 0.4532\n",
      "Epoch 6/100\n",
      "50000/50000 [==============================] - 12s 234us/step - loss: 1.4739 - acc: 0.4744 - val_loss: 1.4772 - val_acc: 0.4694\n",
      "Epoch 7/100\n",
      "50000/50000 [==============================] - 12s 238us/step - loss: 1.4315 - acc: 0.4915 - val_loss: 1.5004 - val_acc: 0.4701\n",
      "Epoch 8/100\n",
      "50000/50000 [==============================] - 12s 238us/step - loss: 1.4032 - acc: 0.4981 - val_loss: 1.4926 - val_acc: 0.4737\n",
      "Epoch 9/100\n",
      "50000/50000 [==============================] - 12s 232us/step - loss: 1.3790 - acc: 0.5099 - val_loss: 1.4898 - val_acc: 0.4761\n",
      "Epoch 10/100\n",
      "50000/50000 [==============================] - 12s 236us/step - loss: 1.3532 - acc: 0.5183 - val_loss: 1.4403 - val_acc: 0.4910\n",
      "Epoch 11/100\n",
      "50000/50000 [==============================] - 11s 223us/step - loss: 1.3303 - acc: 0.5250 - val_loss: 1.4151 - val_acc: 0.5014\n",
      "Epoch 12/100\n",
      "50000/50000 [==============================] - 11s 213us/step - loss: 1.3052 - acc: 0.5343 - val_loss: 1.4164 - val_acc: 0.4978\n",
      "Epoch 13/100\n",
      "50000/50000 [==============================] - 11s 223us/step - loss: 1.2709 - acc: 0.5484 - val_loss: 1.4034 - val_acc: 0.5044\n",
      "Epoch 14/100\n",
      "50000/50000 [==============================] - 11s 223us/step - loss: 1.2545 - acc: 0.5530 - val_loss: 1.3827 - val_acc: 0.5104\n",
      "Epoch 15/100\n",
      "50000/50000 [==============================] - 11s 223us/step - loss: 1.2309 - acc: 0.5604 - val_loss: 1.3887 - val_acc: 0.5077\n",
      "Epoch 16/100\n",
      "50000/50000 [==============================] - 11s 222us/step - loss: 1.2106 - acc: 0.5698 - val_loss: 1.3769 - val_acc: 0.5233\n",
      "Epoch 17/100\n",
      "50000/50000 [==============================] - 11s 224us/step - loss: 1.1905 - acc: 0.5772 - val_loss: 1.3656 - val_acc: 0.5190\n",
      "Epoch 18/100\n",
      "50000/50000 [==============================] - 11s 218us/step - loss: 1.1649 - acc: 0.5849 - val_loss: 1.3989 - val_acc: 0.5121\n",
      "Epoch 19/100\n",
      "50000/50000 [==============================] - 11s 219us/step - loss: 1.1477 - acc: 0.5901 - val_loss: 1.3455 - val_acc: 0.5323\n",
      "Epoch 20/100\n",
      "50000/50000 [==============================] - 11s 215us/step - loss: 1.1228 - acc: 0.6039 - val_loss: 1.3676 - val_acc: 0.5237\n",
      "Epoch 21/100\n",
      "50000/50000 [==============================] - 11s 214us/step - loss: 1.1068 - acc: 0.6055 - val_loss: 1.3761 - val_acc: 0.5256s\n",
      "Epoch 22/100\n",
      "50000/50000 [==============================] - 11s 219us/step - loss: 1.0978 - acc: 0.6081 - val_loss: 1.3535 - val_acc: 0.5316\n",
      "Epoch 23/100\n",
      "50000/50000 [==============================] - 11s 222us/step - loss: 1.0669 - acc: 0.6198 - val_loss: 1.4090 - val_acc: 0.5137\n",
      "Epoch 24/100\n",
      "50000/50000 [==============================] - 11s 226us/step - loss: 1.0581 - acc: 0.6211 - val_loss: 1.4346 - val_acc: 0.5073\n",
      "Epoch 25/100\n",
      "50000/50000 [==============================] - 11s 220us/step - loss: 1.0363 - acc: 0.6308 - val_loss: 1.3721 - val_acc: 0.5334\n",
      "Epoch 26/100\n",
      "50000/50000 [==============================] - 11s 217us/step - loss: 1.0105 - acc: 0.6385 - val_loss: 1.4288 - val_acc: 0.5199\n",
      "Epoch 27/100\n",
      "50000/50000 [==============================] - 11s 230us/step - loss: 0.9897 - acc: 0.6450 - val_loss: 1.4033 - val_acc: 0.5259\n",
      "Epoch 28/100\n",
      "50000/50000 [==============================] - 12s 233us/step - loss: 0.9736 - acc: 0.6530 - val_loss: 1.4667 - val_acc: 0.5090\n",
      "Epoch 29/100\n",
      "50000/50000 [==============================] - 11s 227us/step - loss: 0.9596 - acc: 0.6582 - val_loss: 1.3942 - val_acc: 0.5248\n",
      "Epoch 30/100\n",
      "50000/50000 [==============================] - 11s 223us/step - loss: 0.9370 - acc: 0.6649 - val_loss: 1.4355 - val_acc: 0.5245\n",
      "Epoch 31/100\n",
      "50000/50000 [==============================] - 11s 228us/step - loss: 0.9305 - acc: 0.6648 - val_loss: 1.4458 - val_acc: 0.5257\n",
      "Epoch 32/100\n",
      "50000/50000 [==============================] - 12s 234us/step - loss: 0.9061 - acc: 0.6760 - val_loss: 1.4909 - val_acc: 0.5171\n",
      "Epoch 33/100\n",
      "50000/50000 [==============================] - 12s 247us/step - loss: 0.8870 - acc: 0.6827 - val_loss: 1.4758 - val_acc: 0.5297\n",
      "Epoch 34/100\n",
      "50000/50000 [==============================] - 12s 231us/step - loss: 0.8653 - acc: 0.6916 - val_loss: 1.4696 - val_acc: 0.5275\n",
      "Epoch 35/100\n",
      "50000/50000 [==============================] - 11s 230us/step - loss: 0.8479 - acc: 0.6984 - val_loss: 1.5024 - val_acc: 0.5211\n",
      "Epoch 36/100\n",
      "50000/50000 [==============================] - 12s 231us/step - loss: 0.8490 - acc: 0.6968 - val_loss: 1.5056 - val_acc: 0.5218\n",
      "Epoch 37/100\n",
      "50000/50000 [==============================] - 12s 232us/step - loss: 0.8152 - acc: 0.7114 - val_loss: 1.4956 - val_acc: 0.5288\n",
      "Epoch 38/100\n",
      "50000/50000 [==============================] - 12s 234us/step - loss: 0.8101 - acc: 0.7107 - val_loss: 1.5765 - val_acc: 0.5225s: 0.8078 - acc: 0 - ETA: 1s - lo\n",
      "Epoch 39/100\n",
      "50000/50000 [==============================] - 12s 232us/step - loss: 0.7942 - acc: 0.7162 - val_loss: 1.5839 - val_acc: 0.5240\n",
      "Epoch 40/100\n",
      "50000/50000 [==============================] - 12s 234us/step - loss: 0.7760 - acc: 0.7227 - val_loss: 1.5895 - val_acc: 0.5196\n",
      "Epoch 41/100\n",
      "50000/50000 [==============================] - 12s 234us/step - loss: 0.7616 - acc: 0.7271 - val_loss: 1.6340 - val_acc: 0.5173\n",
      "Epoch 42/100\n",
      "50000/50000 [==============================] - 13s 256us/step - loss: 0.7505 - acc: 0.7307 - val_loss: 1.6212 - val_acc: 0.5198\n",
      "Epoch 43/100\n",
      "50000/50000 [==============================] - 14s 272us/step - loss: 0.7354 - acc: 0.7370 - val_loss: 1.6249 - val_acc: 0.5115\n",
      "Epoch 44/100\n",
      "50000/50000 [==============================] - 14s 271us/step - loss: 0.7168 - acc: 0.7435 - val_loss: 1.6449 - val_acc: 0.5284\n",
      "Epoch 45/100\n",
      "50000/50000 [==============================] - 12s 235us/step - loss: 0.7036 - acc: 0.7488 - val_loss: 1.6827 - val_acc: 0.5162\n",
      "Epoch 46/100\n",
      "50000/50000 [==============================] - 11s 228us/step - loss: 0.6863 - acc: 0.7536 - val_loss: 1.6519 - val_acc: 0.5165\n",
      "Epoch 47/100\n",
      "50000/50000 [==============================] - 12s 232us/step - loss: 0.6736 - acc: 0.7573 - val_loss: 1.7137 - val_acc: 0.5201\n",
      "Epoch 48/100\n",
      "50000/50000 [==============================] - 11s 216us/step - loss: 0.6630 - acc: 0.7635 - val_loss: 1.6977 - val_acc: 0.5215\n",
      "Epoch 49/100\n",
      "50000/50000 [==============================] - 11s 225us/step - loss: 0.6567 - acc: 0.7650 - val_loss: 1.7645 - val_acc: 0.5146\n",
      "Epoch 50/100\n",
      "50000/50000 [==============================] - 11s 229us/step - loss: 0.6323 - acc: 0.7751 - val_loss: 1.7887 - val_acc: 0.5144\n",
      "Epoch 51/100\n",
      "50000/50000 [==============================] - 12s 232us/step - loss: 0.6253 - acc: 0.7773 - val_loss: 1.8052 - val_acc: 0.5208\n",
      "Epoch 52/100\n",
      "50000/50000 [==============================] - 12s 238us/step - loss: 0.6085 - acc: 0.7813 - val_loss: 1.8693 - val_acc: 0.5101\n",
      "Epoch 53/100\n",
      "50000/50000 [==============================] - 12s 232us/step - loss: 0.5946 - acc: 0.7887 - val_loss: 1.8447 - val_acc: 0.5151\n",
      "Epoch 54/100\n",
      "50000/50000 [==============================] - 11s 224us/step - loss: 0.5915 - acc: 0.7870 - val_loss: 1.8457 - val_acc: 0.5168\n",
      "Epoch 55/100\n",
      "50000/50000 [==============================] - 11s 215us/step - loss: 0.5789 - acc: 0.7927 - val_loss: 1.9003 - val_acc: 0.5174\n",
      "Epoch 56/100\n",
      "50000/50000 [==============================] - 11s 211us/step - loss: 0.5707 - acc: 0.7955 - val_loss: 1.9663 - val_acc: 0.5063\n",
      "Epoch 57/100\n",
      "50000/50000 [==============================] - 11s 215us/step - loss: 0.5495 - acc: 0.8016 - val_loss: 1.8973 - val_acc: 0.5124\n",
      "Epoch 58/100\n"
     ]
    },
    {
     "name": "stdout",
     "output_type": "stream",
     "text": [
      "50000/50000 [==============================] - 11s 220us/step - loss: 0.5631 - acc: 0.7970 - val_loss: 1.9764 - val_acc: 0.5084\n",
      "Epoch 59/100\n",
      "50000/50000 [==============================] - 11s 212us/step - loss: 0.5416 - acc: 0.8077 - val_loss: 2.0236 - val_acc: 0.5111\n",
      "Epoch 60/100\n",
      "50000/50000 [==============================] - 11s 212us/step - loss: 0.5332 - acc: 0.8087 - val_loss: 1.9794 - val_acc: 0.5179\n",
      "Epoch 61/100\n",
      "50000/50000 [==============================] - 11s 213us/step - loss: 0.5078 - acc: 0.8190 - val_loss: 2.0777 - val_acc: 0.5129\n",
      "Epoch 62/100\n",
      "50000/50000 [==============================] - 11s 214us/step - loss: 0.5116 - acc: 0.8154 - val_loss: 2.1625 - val_acc: 0.4977\n",
      "Epoch 63/100\n",
      "50000/50000 [==============================] - 11s 215us/step - loss: 0.4969 - acc: 0.8223 - val_loss: 2.0774 - val_acc: 0.5112\n",
      "Epoch 64/100\n",
      "50000/50000 [==============================] - 11s 217us/step - loss: 0.4751 - acc: 0.8299 - val_loss: 2.1521 - val_acc: 0.5137\n",
      "Epoch 65/100\n",
      "50000/50000 [==============================] - 11s 216us/step - loss: 0.4779 - acc: 0.8268 - val_loss: 2.1656 - val_acc: 0.5094\n",
      "Epoch 66/100\n",
      "50000/50000 [==============================] - 11s 211us/step - loss: 0.4797 - acc: 0.8280 - val_loss: 2.2433 - val_acc: 0.5077\n",
      "Epoch 67/100\n",
      "50000/50000 [==============================] - 11s 212us/step - loss: 0.4717 - acc: 0.8296 - val_loss: 2.1821 - val_acc: 0.5149\n",
      "Epoch 68/100\n",
      "50000/50000 [==============================] - 11s 216us/step - loss: 0.4462 - acc: 0.8392 - val_loss: 2.2997 - val_acc: 0.5105\n",
      "Epoch 69/100\n",
      "50000/50000 [==============================] - 11s 213us/step - loss: 0.4451 - acc: 0.8419 - val_loss: 2.2907 - val_acc: 0.5048\n",
      "Epoch 70/100\n",
      "50000/50000 [==============================] - 11s 224us/step - loss: 0.4340 - acc: 0.8433 - val_loss: 2.3115 - val_acc: 0.5141\n",
      "Epoch 71/100\n",
      "50000/50000 [==============================] - 11s 228us/step - loss: 0.4348 - acc: 0.8447 - val_loss: 2.3087 - val_acc: 0.5048\n",
      "Epoch 72/100\n",
      "50000/50000 [==============================] - 11s 224us/step - loss: 0.4154 - acc: 0.8516 - val_loss: 2.3991 - val_acc: 0.5066\n",
      "Epoch 73/100\n",
      "50000/50000 [==============================] - 11s 220us/step - loss: 0.4259 - acc: 0.8486 - val_loss: 2.3544 - val_acc: 0.5064\n",
      "Epoch 74/100\n",
      "50000/50000 [==============================] - 11s 223us/step - loss: 0.4158 - acc: 0.8515 - val_loss: 2.3913 - val_acc: 0.5107\n",
      "Epoch 75/100\n",
      "50000/50000 [==============================] - 11s 219us/step - loss: 0.3985 - acc: 0.8559 - val_loss: 2.4239 - val_acc: 0.5043\n",
      "Epoch 76/100\n",
      "50000/50000 [==============================] - 11s 221us/step - loss: 0.3957 - acc: 0.8577 - val_loss: 2.4775 - val_acc: 0.5075\n",
      "Epoch 77/100\n",
      "50000/50000 [==============================] - 11s 219us/step - loss: 0.3751 - acc: 0.8659 - val_loss: 2.4569 - val_acc: 0.5068\n",
      "Epoch 78/100\n",
      "50000/50000 [==============================] - 11s 219us/step - loss: 0.3930 - acc: 0.8594 - val_loss: 2.5905 - val_acc: 0.5056\n",
      "Epoch 79/100\n",
      "50000/50000 [==============================] - 11s 222us/step - loss: 0.3968 - acc: 0.8564 - val_loss: 2.6228 - val_acc: 0.5071\n",
      "Epoch 80/100\n",
      "50000/50000 [==============================] - 11s 219us/step - loss: 0.3771 - acc: 0.8634 - val_loss: 2.5621 - val_acc: 0.5077\n",
      "Epoch 81/100\n",
      "50000/50000 [==============================] - 11s 224us/step - loss: 0.3596 - acc: 0.8726 - val_loss: 2.6456 - val_acc: 0.5052\n",
      "Epoch 82/100\n",
      "50000/50000 [==============================] - 11s 223us/step - loss: 0.3356 - acc: 0.8804 - val_loss: 2.5727 - val_acc: 0.5143\n",
      "Epoch 83/100\n",
      "50000/50000 [==============================] - 11s 221us/step - loss: 0.3661 - acc: 0.8699 - val_loss: 2.6447 - val_acc: 0.5082\n",
      "Epoch 84/100\n",
      "50000/50000 [==============================] - 11s 228us/step - loss: 0.3518 - acc: 0.8723 - val_loss: 2.7171 - val_acc: 0.5051\n",
      "Epoch 85/100\n",
      "50000/50000 [==============================] - 11s 227us/step - loss: 0.3366 - acc: 0.8787 - val_loss: 2.7901 - val_acc: 0.4954\n",
      "Epoch 86/100\n",
      "50000/50000 [==============================] - 11s 226us/step - loss: 0.3318 - acc: 0.8815 - val_loss: 2.7575 - val_acc: 0.5043\n",
      "Epoch 87/100\n",
      "50000/50000 [==============================] - 11s 227us/step - loss: 0.3184 - acc: 0.8835 - val_loss: 2.8204 - val_acc: 0.5027\n",
      "Epoch 88/100\n",
      "50000/50000 [==============================] - 12s 232us/step - loss: 0.3334 - acc: 0.8804 - val_loss: 2.8134 - val_acc: 0.5031\n",
      "Epoch 89/100\n",
      "50000/50000 [==============================] - 11s 230us/step - loss: 0.3307 - acc: 0.8808 - val_loss: 2.8785 - val_acc: 0.4973\n",
      "Epoch 90/100\n",
      "50000/50000 [==============================] - 11s 229us/step - loss: 0.3563 - acc: 0.8715 - val_loss: 2.8118 - val_acc: 0.5071\n",
      "Epoch 91/100\n",
      "50000/50000 [==============================] - 12s 232us/step - loss: 0.3088 - acc: 0.8889 - val_loss: 2.8012 - val_acc: 0.5052 lo - ETA: 1s - loss: \n",
      "Epoch 92/100\n",
      "50000/50000 [==============================] - 12s 241us/step - loss: 0.2808 - acc: 0.9002 - val_loss: 2.8789 - val_acc: 0.5008\n",
      "Epoch 93/100\n",
      "50000/50000 [==============================] - 11s 224us/step - loss: 0.3322 - acc: 0.8802 - val_loss: 2.8567 - val_acc: 0.4995\n",
      "Epoch 94/100\n",
      "50000/50000 [==============================] - 11s 225us/step - loss: 0.2912 - acc: 0.8954 - val_loss: 2.9977 - val_acc: 0.5047\n",
      "Epoch 95/100\n",
      "50000/50000 [==============================] - 11s 220us/step - loss: 0.3297 - acc: 0.8817 - val_loss: 2.9548 - val_acc: 0.5030\n",
      "Epoch 96/100\n",
      "50000/50000 [==============================] - 11s 228us/step - loss: 0.2864 - acc: 0.8967 - val_loss: 3.0346 - val_acc: 0.5047\n",
      "Epoch 97/100\n",
      "50000/50000 [==============================] - 11s 228us/step - loss: 0.2878 - acc: 0.8984 - val_loss: 3.0429 - val_acc: 0.4987\n",
      "Epoch 98/100\n",
      "50000/50000 [==============================] - 11s 226us/step - loss: 0.2926 - acc: 0.8962 - val_loss: 3.0955 - val_acc: 0.4996\n",
      "Epoch 99/100\n",
      "50000/50000 [==============================] - 11s 226us/step - loss: 0.3101 - acc: 0.8871 - val_loss: 3.0442 - val_acc: 0.5004\n",
      "Epoch 100/100\n",
      "50000/50000 [==============================] - 11s 228us/step - loss: 0.2963 - acc: 0.8936 - val_loss: 3.0322 - val_acc: 0.5008\n"
     ]
    },
    {
     "data": {
      "text/plain": [
       "<keras.callbacks.History at 0x21ae8b08668>"
      ]
     },
     "execution_count": 6,
     "metadata": {},
     "output_type": "execute_result"
    }
   ],
   "source": [
    "# 訓練模型並檢視驗證集的結果\n",
    "model.fit(x_train, y_train, \n",
    "          epochs=100, \n",
    "          batch_size=256, \n",
    "          validation_data=(x_test, y_test), \n",
    "          shuffle=True)"
   ]
  },
  {
   "cell_type": "code",
   "execution_count": 8,
   "metadata": {},
   "outputs": [
    {
     "data": {
      "image/png": "[encoded data removed]",
      "text/plain": [
       "<Figure size 432x288 with 1 Axes>"
      ]
     },
     "metadata": {
      "needs_background": "light"
     },
     "output_type": "display_data"
    },
    {
     "data": {
      "image/png": "[encoded data removed]",
      "text/plain": [
       "<Figure size 432x288 with 1 Axes>"
      ]
     },
     "metadata": {
      "needs_background": "light"
     },
     "output_type": "display_data"
    }
   ],
   "source": [
    "# 以視覺畫方式檢視訓練過程\n",
    "import matplotlib.pyplot as plt\n",
    "train_loss = model.history.history[\"loss\"]\n",
    "valid_loss = model.history.history[\"val_loss\"]\n",
    "\n",
    "train_acc = model.history.history[\"acc\"]\n",
    "valid_acc = model.history.history[\"val_acc\"]\n",
    "\n",
    "plt.plot(range(len(train_loss)), train_loss, label=\"train loss\")\n",
    "plt.plot(range(len(valid_loss)), valid_loss, label=\"valid loss\")\n",
    "plt.legend()\n",
    "plt.title(\"Loss\")\n",
    "plt.show()\n",
    "\n",
    "plt.plot(range(len(train_acc)), train_acc, label=\"train accuracy\")\n",
    "plt.plot(range(len(valid_acc)), valid_acc, label=\"valid accuracy\")\n",
    "plt.legend()\n",
    "plt.title(\"Accuracy\")\n",
    "plt.show()"
   ]
  },
  {
   "cell_type": "markdown",
   "metadata": {},
   "source": [
    "## 作業\n",
    "1. 請將 Epoch 加到 500 個，並觀察 learning curve 的走勢\n",
    "2. 請將 Optimizer 換成 SGD，並觀察 learning curve 的走勢"
   ]
  },
  {
   "cell_type": "markdown",
   "metadata": {},
   "source": [
    "## 參考資料\n",
    "\n",
    "### EliteDataScience - 如何減少 Overfitting 的發生\n",
    "\n",
    "\n",
    "- 使用 K-fold cross validation\n",
    "    - 找到一組參數可以在多組不同的 validation 上得到相似的結果\n",
    "- 使用更多的訓練資料\n",
    "- 減少 Features (參數) 的使用量\n",
    "    - 避免參數比潛在組合更多的狀況發生，以免模型靠硬記就可以得到結果\n",
    "- 在模型訓練的過程中加入正則化參數 (Regularization)\n",
    "    - 控制 input 的改變對模型造成的影響太大。\n",
    "    ![](https://ai100-fileentity.cupoy.com/2nd/homework/D77/1562834179002/large)"
   ]
  },
  {
   "cell_type": "markdown",
   "metadata": {},
   "source": [
    "參考資料連結：\n",
    "\n",
    "[Overfitting – Coursera 日誌](https://medium.com/@ken90242/machine-learning%E5%AD%B8%E7%BF%92%E6%97%A5%E8%A8%98-coursera%E7%AF%87-week-3-4-the-c05b8ba3b36f)\n",
    "\n",
    "[EliteDataScience – Overfitting](https://elitedatascience.com/overfitting-in-machine-learning)\n",
    "\n",
    "[Overfitting vs. Underfitting](https://towardsdatascience.com/overfitting-vs-underfitting-a-complete-example-d05dd7e19765)"
   ]
  },
  {
   "cell_type": "code",
   "execution_count": null,
   "metadata": {},
   "outputs": [],
   "source": []
  }
 ],
 "metadata": {
  "kernelspec": {
   "display_name": "Python 3",
   "language": "python",
   "name": "python3"
  },
  "language_info": {
   "codemirror_mode": {
    "name": "ipython",
    "version": 3
   },
   "file_extension": ".py",
   "mimetype": "text/x-python",
   "name": "python",
   "nbconvert_exporter": "python",
   "pygments_lexer": "ipython3",
   "version": "3.7.1"
  }
 },
 "nbformat": 4,
 "nbformat_minor": 2
}
