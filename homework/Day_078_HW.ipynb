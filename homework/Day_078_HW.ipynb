{
 "cells": [
  {
   "cell_type": "markdown",
   "metadata": {},
   "source": [
    "## Work\n",
    "1. 請嘗試將 preproc_x 替換成以每筆資料的 min/max 進行標準化至 -1 ~ 1 間，再進行訓練\n",
    "2. 請嘗試將 mlp 疊更深 (e.g 5~10 層)，進行訓練後觀察 learning curve 的走勢\n",
    "3. (optional) 請改用 GPU 進行訓練 (如果你有 GPU 的話)，比較使用 CPU 與 GPU 的訓練速度"
   ]
  },
  {
   "cell_type": "code",
   "execution_count": 1,
   "metadata": {},
   "outputs": [
    {
     "name": "stdout",
     "output_type": "stream",
     "text": [
      "/bin/sh: nvidia-smi: command not found\r\n"
     ]
    }
   ],
   "source": [
    "## \n",
    "\"\"\"\n",
    "Your code here (optional)\n",
    "確認硬體資源\n",
    "\"\"\"\n",
    "!nvidia-smi"
   ]
  },
  {
   "cell_type": "code",
   "execution_count": 2,
   "metadata": {},
   "outputs": [
    {
     "name": "stderr",
     "output_type": "stream",
     "text": [
      "Using TensorFlow backend.\n"
     ]
    }
   ],
   "source": [
    "import os\n",
    "import keras\n",
    "\n",
    "# 請嘗試設定 GPU：os.environ\n",
    "os.environ[\"CUDA_VISIBLE_DEVICES\"] = \"\""
   ]
  },
  {
   "cell_type": "code",
   "execution_count": 3,
   "metadata": {},
   "outputs": [],
   "source": [
    "train, test = keras.datasets.cifar10.load_data()"
   ]
  },
  {
   "cell_type": "code",
   "execution_count": 4,
   "metadata": {},
   "outputs": [],
   "source": [
    "## 資料前處理\n",
    "\"\"\"\n",
    "Your code here\n",
    "\"\"\"\n",
    "def preproc_x(x, flatten=True):\n",
    "    x = (x - x.min()) / (x.max() - x.min())\n",
    "    if flatten:\n",
    "        x = x.reshape(len(x), -1)\n",
    "    return x\n",
    "\n",
    "def preproc_y(y, num_classes=10):\n",
    "    if y.shape[-1] == 1:\n",
    "        y = keras.utils.to_categorical(y, num_classes)\n",
    "    return y    "
   ]
  },
  {
   "cell_type": "code",
   "execution_count": 5,
   "metadata": {},
   "outputs": [],
   "source": [
    "x_train, y_train = train\n",
    "x_test, y_test = test\n",
    "\n",
    "# Preproc the inputs\n",
    "x_train = preproc_x(x_train)\n",
    "x_test = preproc_x(x_test)\n",
    "\n",
    "# Preprc the outputs\n",
    "y_train = preproc_y(y_train)\n",
    "y_test = preproc_y(y_test)"
   ]
  },
  {
   "cell_type": "code",
   "execution_count": 6,
   "metadata": {},
   "outputs": [],
   "source": [
    "\"\"\"Code Here\n",
    "建立你的神經網路\n",
    "\"\"\"\n",
    "def build_mlp(input_shape, output_units=10, num_neurons=[1024, 512, 256, 128, 64, 32]):\n",
    "    input_layer = keras.layers.Input(input_shape)\n",
    "    \n",
    "    for i, n_units in enumerate(num_neurons):\n",
    "        if i == 0:\n",
    "            x = keras.layers.Dense(units=n_units, activation=\"relu\", name=\"hidden_layer\"+str(i+1))(input_layer)\n",
    "        else:\n",
    "            x = keras.layers.Dense(units=n_units, activation=\"relu\", name=\"hidden_layer\"+str(i+1))(x)\n",
    "    \n",
    "    out = keras.layers.Dense(units=output_units, activation=\"softmax\", name=\"output\")(x)\n",
    "    \n",
    "    model = keras.models.Model(inputs=[input_layer], outputs=[out])\n",
    "    return model"
   ]
  },
  {
   "cell_type": "code",
   "execution_count": 7,
   "metadata": {},
   "outputs": [
    {
     "name": "stderr",
     "output_type": "stream",
     "text": [
      "WARNING: Logging before flag parsing goes to stderr.\n",
      "W0725 14:57:45.628035 4535883200 deprecation_wrapper.py:119] From /Users/samir/anaconda3/envs/tensorflow/lib/python3.7/site-packages/keras/backend/tensorflow_backend.py:74: The name tf.get_default_graph is deprecated. Please use tf.compat.v1.get_default_graph instead.\n",
      "\n",
      "W0725 14:57:45.640227 4535883200 deprecation_wrapper.py:119] From /Users/samir/anaconda3/envs/tensorflow/lib/python3.7/site-packages/keras/backend/tensorflow_backend.py:517: The name tf.placeholder is deprecated. Please use tf.compat.v1.placeholder instead.\n",
      "\n",
      "W0725 14:57:45.642706 4535883200 deprecation_wrapper.py:119] From /Users/samir/anaconda3/envs/tensorflow/lib/python3.7/site-packages/keras/backend/tensorflow_backend.py:4138: The name tf.random_uniform is deprecated. Please use tf.random.uniform instead.\n",
      "\n"
     ]
    },
    {
     "name": "stdout",
     "output_type": "stream",
     "text": [
      "_________________________________________________________________\n",
      "Layer (type)                 Output Shape              Param #   \n",
      "=================================================================\n",
      "input_1 (InputLayer)         (None, 3072)              0         \n",
      "_________________________________________________________________\n",
      "hidden_layer1 (Dense)        (None, 1024)              3146752   \n",
      "_________________________________________________________________\n",
      "hidden_layer2 (Dense)        (None, 512)               524800    \n",
      "_________________________________________________________________\n",
      "hidden_layer3 (Dense)        (None, 256)               131328    \n",
      "_________________________________________________________________\n",
      "hidden_layer4 (Dense)        (None, 128)               32896     \n",
      "_________________________________________________________________\n",
      "hidden_layer5 (Dense)        (None, 64)                8256      \n",
      "_________________________________________________________________\n",
      "hidden_layer6 (Dense)        (None, 32)                2080      \n",
      "_________________________________________________________________\n",
      "output (Dense)               (None, 10)                330       \n",
      "=================================================================\n",
      "Total params: 3,846,442\n",
      "Trainable params: 3,846,442\n",
      "Non-trainable params: 0\n",
      "_________________________________________________________________\n"
     ]
    }
   ],
   "source": [
    "model = build_mlp(input_shape=x_train.shape[1:])\n",
    "model.summary()"
   ]
  },
  {
   "cell_type": "code",
   "execution_count": 8,
   "metadata": {},
   "outputs": [],
   "source": [
    "## 超參數設定\n",
    "LEARNING_RATE = 0.001\n",
    "EPOCHS = 100\n",
    "BATCH_SIZE = 256"
   ]
  },
  {
   "cell_type": "code",
   "execution_count": 9,
   "metadata": {},
   "outputs": [
    {
     "name": "stderr",
     "output_type": "stream",
     "text": [
      "W0725 14:57:45.755986 4535883200 deprecation_wrapper.py:119] From /Users/samir/anaconda3/envs/tensorflow/lib/python3.7/site-packages/keras/optimizers.py:790: The name tf.train.Optimizer is deprecated. Please use tf.compat.v1.train.Optimizer instead.\n",
      "\n",
      "W0725 14:57:45.763815 4535883200 deprecation_wrapper.py:119] From /Users/samir/anaconda3/envs/tensorflow/lib/python3.7/site-packages/keras/backend/tensorflow_backend.py:3295: The name tf.log is deprecated. Please use tf.math.log instead.\n",
      "\n"
     ]
    }
   ],
   "source": [
    "optimizer = keras.optimizers.Adam(lr=LEARNING_RATE)\n",
    "model.compile(loss=\"categorical_crossentropy\", metrics=[\"accuracy\"], optimizer=optimizer)"
   ]
  },
  {
   "cell_type": "code",
   "execution_count": 10,
   "metadata": {
    "scrolled": true
   },
   "outputs": [
    {
     "name": "stderr",
     "output_type": "stream",
     "text": [
      "W0725 14:57:45.855979 4535883200 deprecation.py:323] From /Users/samir/anaconda3/envs/tensorflow/lib/python3.7/site-packages/tensorflow/python/ops/math_grad.py:1250: add_dispatch_support.<locals>.wrapper (from tensorflow.python.ops.array_ops) is deprecated and will be removed in a future version.\n",
      "Instructions for updating:\n",
      "Use tf.where in 2.0, which has the same broadcast rule as np.where\n",
      "W0725 14:57:45.914001 4535883200 deprecation_wrapper.py:119] From /Users/samir/anaconda3/envs/tensorflow/lib/python3.7/site-packages/keras/backend/tensorflow_backend.py:986: The name tf.assign_add is deprecated. Please use tf.compat.v1.assign_add instead.\n",
      "\n"
     ]
    },
    {
     "name": "stdout",
     "output_type": "stream",
     "text": [
      "Train on 50000 samples, validate on 10000 samples\n",
      "Epoch 1/100\n",
      "50000/50000 [==============================] - 16s 320us/step - loss: 2.0012 - acc: 0.2619 - val_loss: 1.8338 - val_acc: 0.3411\n",
      "Epoch 2/100\n",
      "50000/50000 [==============================] - 16s 312us/step - loss: 1.7663 - acc: 0.3622 - val_loss: 1.6904 - val_acc: 0.3912\n",
      "Epoch 3/100\n",
      "50000/50000 [==============================] - 17s 333us/step - loss: 1.6697 - acc: 0.3992 - val_loss: 1.6042 - val_acc: 0.4227\n",
      "Epoch 4/100\n",
      "50000/50000 [==============================] - 15s 297us/step - loss: 1.5813 - acc: 0.4316 - val_loss: 1.5834 - val_acc: 0.4177\n",
      "Epoch 5/100\n",
      "50000/50000 [==============================] - 15s 301us/step - loss: 1.5247 - acc: 0.4521 - val_loss: 1.5218 - val_acc: 0.4506\n",
      "Epoch 6/100\n",
      "50000/50000 [==============================] - 15s 298us/step - loss: 1.4839 - acc: 0.4663 - val_loss: 1.5652 - val_acc: 0.4449\n",
      "Epoch 7/100\n",
      "50000/50000 [==============================] - 15s 302us/step - loss: 1.4532 - acc: 0.4792 - val_loss: 1.4941 - val_acc: 0.4766\n",
      "Epoch 8/100\n",
      "50000/50000 [==============================] - 15s 304us/step - loss: 1.4107 - acc: 0.4945 - val_loss: 1.4823 - val_acc: 0.4750\n",
      "Epoch 9/100\n",
      "50000/50000 [==============================] - 17s 331us/step - loss: 1.3854 - acc: 0.5038 - val_loss: 1.4693 - val_acc: 0.4777\n",
      "Epoch 10/100\n",
      "50000/50000 [==============================] - 18s 359us/step - loss: 1.3632 - acc: 0.5115 - val_loss: 1.4198 - val_acc: 0.4925\n",
      "Epoch 11/100\n",
      "50000/50000 [==============================] - 18s 363us/step - loss: 1.3241 - acc: 0.5275 - val_loss: 1.4113 - val_acc: 0.5019\n",
      "Epoch 12/100\n",
      "50000/50000 [==============================] - 18s 355us/step - loss: 1.2834 - acc: 0.5405 - val_loss: 1.3915 - val_acc: 0.5102\n",
      "Epoch 13/100\n",
      "50000/50000 [==============================] - 23s 451us/step - loss: 1.2593 - acc: 0.5502 - val_loss: 1.5135 - val_acc: 0.4769\n",
      "Epoch 14/100\n",
      "50000/50000 [==============================] - 27s 544us/step - loss: 1.2294 - acc: 0.5588 - val_loss: 1.3736 - val_acc: 0.5080\n",
      "Epoch 15/100\n",
      "50000/50000 [==============================] - 19s 389us/step - loss: 1.2075 - acc: 0.5687 - val_loss: 1.3852 - val_acc: 0.5119\n",
      "Epoch 16/100\n",
      "50000/50000 [==============================] - 23s 456us/step - loss: 1.1829 - acc: 0.5782 - val_loss: 1.3798 - val_acc: 0.5176\n",
      "Epoch 17/100\n",
      "50000/50000 [==============================] - 22s 446us/step - loss: 1.1565 - acc: 0.5841 - val_loss: 1.4303 - val_acc: 0.5026\n",
      "Epoch 18/100\n",
      "50000/50000 [==============================] - 17s 339us/step - loss: 1.1276 - acc: 0.5949 - val_loss: 1.4061 - val_acc: 0.5117\n",
      "Epoch 19/100\n",
      "50000/50000 [==============================] - 18s 354us/step - loss: 1.1035 - acc: 0.6048 - val_loss: 1.3791 - val_acc: 0.5205\n",
      "Epoch 20/100\n",
      "50000/50000 [==============================] - 20s 410us/step - loss: 1.0676 - acc: 0.6175 - val_loss: 1.4263 - val_acc: 0.5107\n",
      "Epoch 21/100\n",
      "50000/50000 [==============================] - 18s 361us/step - loss: 1.0408 - acc: 0.6241 - val_loss: 1.3857 - val_acc: 0.5257\n",
      "Epoch 22/100\n",
      "50000/50000 [==============================] - 18s 357us/step - loss: 1.0159 - acc: 0.6364 - val_loss: 1.4119 - val_acc: 0.5174\n",
      "Epoch 23/100\n",
      "50000/50000 [==============================] - 18s 357us/step - loss: 0.9870 - acc: 0.6465 - val_loss: 1.4078 - val_acc: 0.5179\n",
      "Epoch 24/100\n",
      "50000/50000 [==============================] - 18s 359us/step - loss: 0.9598 - acc: 0.6560 - val_loss: 1.4255 - val_acc: 0.5206\n",
      "Epoch 25/100\n",
      "50000/50000 [==============================] - 19s 388us/step - loss: 0.9323 - acc: 0.6652 - val_loss: 1.4431 - val_acc: 0.5195\n",
      "Epoch 26/100\n",
      "50000/50000 [==============================] - 19s 371us/step - loss: 0.8962 - acc: 0.6792 - val_loss: 1.5133 - val_acc: 0.5158\n",
      "Epoch 27/100\n",
      "50000/50000 [==============================] - 19s 385us/step - loss: 0.8780 - acc: 0.6851 - val_loss: 1.5169 - val_acc: 0.5182\n",
      "Epoch 28/100\n",
      "50000/50000 [==============================] - 19s 373us/step - loss: 0.8369 - acc: 0.7012 - val_loss: 1.5174 - val_acc: 0.5192\n",
      "Epoch 29/100\n",
      "50000/50000 [==============================] - 17s 350us/step - loss: 0.8227 - acc: 0.7028 - val_loss: 1.5635 - val_acc: 0.5083\n",
      "Epoch 30/100\n",
      "50000/50000 [==============================] - 18s 352us/step - loss: 0.7856 - acc: 0.7170 - val_loss: 1.5564 - val_acc: 0.5289\n",
      "Epoch 31/100\n",
      "50000/50000 [==============================] - 17s 348us/step - loss: 0.7656 - acc: 0.7255 - val_loss: 1.5964 - val_acc: 0.5222\n",
      "Epoch 32/100\n",
      "50000/50000 [==============================] - 17s 344us/step - loss: 0.7400 - acc: 0.7336 - val_loss: 1.6432 - val_acc: 0.5106\n",
      "Epoch 33/100\n",
      "50000/50000 [==============================] - 17s 341us/step - loss: 0.7080 - acc: 0.7454 - val_loss: 1.6499 - val_acc: 0.5147\n",
      "Epoch 34/100\n",
      "50000/50000 [==============================] - 17s 347us/step - loss: 0.6808 - acc: 0.7562 - val_loss: 1.7179 - val_acc: 0.5133\n",
      "Epoch 35/100\n",
      "50000/50000 [==============================] - 18s 350us/step - loss: 0.6634 - acc: 0.7605 - val_loss: 1.7395 - val_acc: 0.5218\n",
      "Epoch 36/100\n",
      "50000/50000 [==============================] - 17s 342us/step - loss: 0.6382 - acc: 0.7711 - val_loss: 1.7383 - val_acc: 0.5162\n",
      "Epoch 37/100\n",
      "50000/50000 [==============================] - 17s 340us/step - loss: 0.6172 - acc: 0.7785 - val_loss: 1.8428 - val_acc: 0.5200\n",
      "Epoch 38/100\n",
      "50000/50000 [==============================] - 17s 345us/step - loss: 0.6015 - acc: 0.7853 - val_loss: 1.8688 - val_acc: 0.5145\n",
      "Epoch 39/100\n",
      "50000/50000 [==============================] - 18s 355us/step - loss: 0.5900 - acc: 0.7875 - val_loss: 1.8956 - val_acc: 0.5035\n",
      "Epoch 40/100\n",
      "50000/50000 [==============================] - 22s 434us/step - loss: 0.5588 - acc: 0.7980 - val_loss: 1.9923 - val_acc: 0.5181\n",
      "Epoch 41/100\n",
      "50000/50000 [==============================] - 20s 402us/step - loss: 0.5302 - acc: 0.8092 - val_loss: 2.0000 - val_acc: 0.5190\n",
      "Epoch 42/100\n",
      "50000/50000 [==============================] - 18s 369us/step - loss: 0.5202 - acc: 0.8132 - val_loss: 2.0561 - val_acc: 0.5034\n",
      "Epoch 43/100\n",
      "50000/50000 [==============================] - 18s 353us/step - loss: 0.5120 - acc: 0.8175 - val_loss: 2.1128 - val_acc: 0.5089\n",
      "Epoch 44/100\n",
      "50000/50000 [==============================] - 21s 430us/step - loss: 0.4739 - acc: 0.8287 - val_loss: 2.2656 - val_acc: 0.5047\n",
      "Epoch 45/100\n",
      "50000/50000 [==============================] - 23s 465us/step - loss: 0.4862 - acc: 0.8258 - val_loss: 2.1501 - val_acc: 0.5127\n",
      "Epoch 46/100\n",
      "50000/50000 [==============================] - 23s 451us/step - loss: 0.4422 - acc: 0.8411 - val_loss: 2.2323 - val_acc: 0.5079\n",
      "Epoch 47/100\n",
      "50000/50000 [==============================] - 17s 332us/step - loss: 0.4354 - acc: 0.8436 - val_loss: 2.2746 - val_acc: 0.5072\n",
      "Epoch 48/100\n",
      "50000/50000 [==============================] - 19s 380us/step - loss: 0.4116 - acc: 0.8525 - val_loss: 2.3486 - val_acc: 0.5140\n",
      "Epoch 49/100\n",
      "50000/50000 [==============================] - 19s 380us/step - loss: 0.4095 - acc: 0.8575 - val_loss: 2.3524 - val_acc: 0.4979\n",
      "Epoch 50/100\n",
      "50000/50000 [==============================] - 20s 391us/step - loss: 0.3935 - acc: 0.8588 - val_loss: 2.5394 - val_acc: 0.5129\n",
      "Epoch 51/100\n",
      "50000/50000 [==============================] - 17s 344us/step - loss: 0.3881 - acc: 0.8602 - val_loss: 2.4961 - val_acc: 0.4930\n",
      "Epoch 52/100\n",
      "50000/50000 [==============================] - 17s 334us/step - loss: 0.4068 - acc: 0.8569 - val_loss: 2.4144 - val_acc: 0.5066\n",
      "Epoch 53/100\n",
      "50000/50000 [==============================] - 17s 348us/step - loss: 0.3749 - acc: 0.8657 - val_loss: 2.4555 - val_acc: 0.5108\n",
      "Epoch 54/100\n",
      "50000/50000 [==============================] - 20s 403us/step - loss: 0.3586 - acc: 0.8718 - val_loss: 2.5789 - val_acc: 0.5077\n",
      "Epoch 55/100\n",
      "50000/50000 [==============================] - 21s 421us/step - loss: 0.3606 - acc: 0.8719 - val_loss: 2.6118 - val_acc: 0.5043\n",
      "Epoch 56/100\n",
      "50000/50000 [==============================] - 19s 379us/step - loss: 0.3415 - acc: 0.8784 - val_loss: 2.6831 - val_acc: 0.5034\n",
      "Epoch 57/100\n",
      "50000/50000 [==============================] - 20s 392us/step - loss: 0.3382 - acc: 0.8799 - val_loss: 2.6861 - val_acc: 0.5018\n",
      "Epoch 58/100\n",
      "50000/50000 [==============================] - 20s 397us/step - loss: 0.3286 - acc: 0.8815 - val_loss: 2.6855 - val_acc: 0.5063\n"
     ]
    },
    {
     "name": "stdout",
     "output_type": "stream",
     "text": [
      "Epoch 59/100\n",
      "50000/50000 [==============================] - 16s 328us/step - loss: 0.2873 - acc: 0.8978 - val_loss: 2.7582 - val_acc: 0.5066\n",
      "Epoch 60/100\n",
      "50000/50000 [==============================] - 16s 322us/step - loss: 0.2974 - acc: 0.8940 - val_loss: 2.8763 - val_acc: 0.5026\n",
      "Epoch 61/100\n",
      "50000/50000 [==============================] - 16s 320us/step - loss: 0.2842 - acc: 0.8989 - val_loss: 2.8931 - val_acc: 0.5029\n",
      "Epoch 62/100\n",
      "50000/50000 [==============================] - 19s 388us/step - loss: 0.3157 - acc: 0.8879 - val_loss: 2.8475 - val_acc: 0.5045\n",
      "Epoch 63/100\n",
      "50000/50000 [==============================] - 17s 345us/step - loss: 0.3198 - acc: 0.8866 - val_loss: 2.8613 - val_acc: 0.5090\n",
      "Epoch 64/100\n",
      "50000/50000 [==============================] - 18s 351us/step - loss: 0.2697 - acc: 0.9046 - val_loss: 2.8788 - val_acc: 0.5014\n",
      "Epoch 65/100\n",
      "50000/50000 [==============================] - 19s 373us/step - loss: 0.2613 - acc: 0.9072 - val_loss: 2.9820 - val_acc: 0.5072\n",
      "Epoch 66/100\n",
      "50000/50000 [==============================] - 17s 342us/step - loss: 0.2969 - acc: 0.8954 - val_loss: 2.9157 - val_acc: 0.5053\n",
      "Epoch 67/100\n",
      "50000/50000 [==============================] - 17s 334us/step - loss: 0.2609 - acc: 0.9082 - val_loss: 2.9714 - val_acc: 0.5039\n",
      "Epoch 68/100\n",
      "50000/50000 [==============================] - 18s 364us/step - loss: 0.2474 - acc: 0.9131 - val_loss: 2.9755 - val_acc: 0.4995\n",
      "Epoch 69/100\n",
      "50000/50000 [==============================] - 17s 340us/step - loss: 0.2626 - acc: 0.9072 - val_loss: 3.0778 - val_acc: 0.5005\n",
      "Epoch 70/100\n",
      "50000/50000 [==============================] - 17s 350us/step - loss: 0.2484 - acc: 0.9115 - val_loss: 3.1432 - val_acc: 0.4972\n",
      "Epoch 71/100\n",
      "50000/50000 [==============================] - 18s 353us/step - loss: 0.2451 - acc: 0.9130 - val_loss: 3.0956 - val_acc: 0.5008\n",
      "Epoch 72/100\n",
      "50000/50000 [==============================] - 17s 334us/step - loss: 0.2302 - acc: 0.9191 - val_loss: 3.1902 - val_acc: 0.4979\n",
      "Epoch 73/100\n",
      "50000/50000 [==============================] - 17s 346us/step - loss: 0.2501 - acc: 0.9123 - val_loss: 3.1811 - val_acc: 0.5014\n",
      "Epoch 74/100\n",
      "50000/50000 [==============================] - 17s 338us/step - loss: 0.2441 - acc: 0.9143 - val_loss: 3.2223 - val_acc: 0.5112\n",
      "Epoch 75/100\n",
      "50000/50000 [==============================] - 17s 339us/step - loss: 0.2202 - acc: 0.9227 - val_loss: 3.2425 - val_acc: 0.5040\n",
      "Epoch 76/100\n",
      "50000/50000 [==============================] - 17s 340us/step - loss: 0.2145 - acc: 0.9253 - val_loss: 3.2959 - val_acc: 0.4972\n",
      "Epoch 77/100\n",
      "50000/50000 [==============================] - 17s 335us/step - loss: 0.2533 - acc: 0.9125 - val_loss: 3.2628 - val_acc: 0.5022\n",
      "Epoch 78/100\n",
      "50000/50000 [==============================] - 17s 343us/step - loss: 0.2069 - acc: 0.9275 - val_loss: 3.3012 - val_acc: 0.5077\n",
      "Epoch 79/100\n",
      "50000/50000 [==============================] - 17s 337us/step - loss: 0.2071 - acc: 0.9278 - val_loss: 3.2628 - val_acc: 0.4939\n",
      "Epoch 80/100\n",
      "50000/50000 [==============================] - 17s 343us/step - loss: 0.2141 - acc: 0.9245 - val_loss: 3.3186 - val_acc: 0.5027\n",
      "Epoch 81/100\n",
      "50000/50000 [==============================] - 17s 336us/step - loss: 0.1885 - acc: 0.9337 - val_loss: 3.4496 - val_acc: 0.5066\n",
      "Epoch 82/100\n",
      "50000/50000 [==============================] - 17s 334us/step - loss: 0.2256 - acc: 0.9214 - val_loss: 3.3467 - val_acc: 0.4928\n",
      "Epoch 83/100\n",
      "50000/50000 [==============================] - 17s 337us/step - loss: 0.1968 - acc: 0.9320 - val_loss: 3.4463 - val_acc: 0.4996\n",
      "Epoch 84/100\n",
      "50000/50000 [==============================] - 21s 412us/step - loss: 0.1913 - acc: 0.9326 - val_loss: 3.3758 - val_acc: 0.5023\n",
      "Epoch 85/100\n",
      "50000/50000 [==============================] - 18s 367us/step - loss: 0.1913 - acc: 0.9335 - val_loss: 3.4412 - val_acc: 0.4848\n",
      "Epoch 86/100\n",
      "50000/50000 [==============================] - 19s 378us/step - loss: 0.2316 - acc: 0.9206 - val_loss: 3.3381 - val_acc: 0.5032\n",
      "Epoch 87/100\n",
      "50000/50000 [==============================] - 18s 357us/step - loss: 0.1832 - acc: 0.9365 - val_loss: 3.4133 - val_acc: 0.5034\n",
      "Epoch 88/100\n",
      "50000/50000 [==============================] - 17s 344us/step - loss: 0.1694 - acc: 0.9413 - val_loss: 3.4897 - val_acc: 0.5046\n",
      "Epoch 89/100\n",
      "50000/50000 [==============================] - 17s 339us/step - loss: 0.1832 - acc: 0.9372 - val_loss: 3.3915 - val_acc: 0.4958\n",
      "Epoch 90/100\n",
      "50000/50000 [==============================] - 19s 371us/step - loss: 0.2031 - acc: 0.9314 - val_loss: 3.4158 - val_acc: 0.4959\n",
      "Epoch 91/100\n",
      "50000/50000 [==============================] - 22s 439us/step - loss: 0.1818 - acc: 0.9359 - val_loss: 3.5854 - val_acc: 0.5011\n",
      "Epoch 92/100\n",
      "50000/50000 [==============================] - 18s 353us/step - loss: 0.1823 - acc: 0.9370 - val_loss: 3.5013 - val_acc: 0.4952\n",
      "Epoch 93/100\n",
      "50000/50000 [==============================] - 20s 397us/step - loss: 0.1663 - acc: 0.9423 - val_loss: 3.6238 - val_acc: 0.4983\n",
      "Epoch 94/100\n",
      "50000/50000 [==============================] - 19s 386us/step - loss: 0.1746 - acc: 0.9388 - val_loss: 3.6829 - val_acc: 0.5074\n",
      "Epoch 95/100\n",
      "50000/50000 [==============================] - 18s 354us/step - loss: 0.1788 - acc: 0.9382 - val_loss: 3.4962 - val_acc: 0.4996\n",
      "Epoch 96/100\n",
      "50000/50000 [==============================] - 17s 338us/step - loss: 0.1897 - acc: 0.9337 - val_loss: 3.5264 - val_acc: 0.5061\n",
      "Epoch 97/100\n",
      "50000/50000 [==============================] - 17s 342us/step - loss: 0.1462 - acc: 0.9493 - val_loss: 3.6528 - val_acc: 0.5064\n",
      "Epoch 98/100\n",
      "50000/50000 [==============================] - 17s 335us/step - loss: 0.1428 - acc: 0.9494 - val_loss: 3.6894 - val_acc: 0.4911\n",
      "Epoch 99/100\n",
      "50000/50000 [==============================] - 18s 363us/step - loss: 0.2151 - acc: 0.9266 - val_loss: 3.4735 - val_acc: 0.5006\n",
      "Epoch 100/100\n",
      "50000/50000 [==============================] - 18s 350us/step - loss: 0.1640 - acc: 0.9434 - val_loss: 3.7202 - val_acc: 0.4972\n"
     ]
    },
    {
     "data": {
      "text/plain": [
       "<keras.callbacks.History at 0x13b49cc88>"
      ]
     },
     "execution_count": 10,
     "metadata": {},
     "output_type": "execute_result"
    }
   ],
   "source": [
    "model.fit(x_train, y_train, \n",
    "          epochs=EPOCHS, \n",
    "          batch_size=BATCH_SIZE, \n",
    "          validation_data=(x_test, y_test), \n",
    "          shuffle=True)"
   ]
  },
  {
   "cell_type": "code",
   "execution_count": 12,
   "metadata": {},
   "outputs": [
    {
     "data": {
      "image/png": "[encoded data removed]",
      "text/plain": [
       "<Figure size 432x288 with 1 Axes>"
      ]
     },
     "metadata": {
      "needs_background": "light"
     },
     "output_type": "display_data"
    },
    {
     "data": {
      "image/png": "[encoded data removed]",
      "text/plain": [
       "<Figure size 432x288 with 1 Axes>"
      ]
     },
     "metadata": {
      "needs_background": "light"
     },
     "output_type": "display_data"
    }
   ],
   "source": [
    "import matplotlib.pyplot as plt\n",
    "\n",
    "\n",
    "train_loss = model.history.history[\"loss\"]\n",
    "valid_loss = model.history.history[\"val_loss\"]\n",
    "\n",
    "train_acc = model.history.history[\"acc\"]\n",
    "valid_acc = model.history.history[\"val_acc\"]\n",
    "\n",
    "plt.plot(range(len(train_loss)), train_loss, label=\"train loss\")\n",
    "plt.plot(range(len(valid_loss)), valid_loss, label=\"valid loss\")\n",
    "plt.legend()\n",
    "plt.title(\"Loss\")\n",
    "plt.show()\n",
    "\n",
    "plt.plot(range(len(train_acc)), train_acc, label=\"train accuracy\")\n",
    "plt.plot(range(len(valid_acc)), valid_acc, label=\"valid accuracy\")\n",
    "plt.legend()\n",
    "plt.title(\"Accuracy\")\n",
    "plt.show()"
   ]
  },
  {
   "cell_type": "code",
   "execution_count": null,
   "metadata": {},
   "outputs": [],
   "source": []
  }
 ],
 "metadata": {
  "kernelspec": {
   "display_name": "Python [conda env:tensorflow]",
   "language": "python",
   "name": "conda-env-tensorflow-py"
  },
  "language_info": {
   "codemirror_mode": {
    "name": "ipython",
    "version": 3
   },
   "file_extension": ".py",
   "mimetype": "text/x-python",
   "name": "python",
   "nbconvert_exporter": "python",
   "pygments_lexer": "ipython3",
   "version": "3.7.3"
  }
 },
 "nbformat": 4,
 "nbformat_minor": 2
}
