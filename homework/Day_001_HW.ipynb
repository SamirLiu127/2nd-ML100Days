{
 "cells": [
  {
   "cell_type": "markdown",
   "metadata": {},
   "source": [
    "### 作業1：\n",
    "\n",
    "請上 Kaggle, 在 Competitions 或 Dataset 中找一組競賽或資料並寫下：\n",
    "##### [Video Game Sales with Ratings](https://www.kaggle.com/rush4ratio/video-game-sales-with-ratings)\n",
    "\n",
    "1. 選的這組資料為何重要\n",
    "    - 有趣 \n",
    "    - 影響著遊戲股市\n",
    "2. 資料從何而來\n",
    "    - [網路爬蟲](https://github.com/wtamu-cisresearch/scraper)\n",
    "3. 蒐集而來的資料型態為何\n",
    "    - 結構化資料CSV\n",
    "        - Name: Name of the game\n",
    "        - Platform: Console on which the game is running\n",
    "        - Year_of_Release: Year of the game released\n",
    "        - Genre: Game's category\n",
    "        - Publisher: Publisher\n",
    "        - NA_Sales: Game sales in North America (in millions of units)\n",
    "        - EU_Sales: Game sales in the European Union (in millions of units)\n",
    "        - JP_Sales: Game sales in Japan (in millions of units)\n",
    "        - Other_Sales: Game sales in the rest of the world, i.e. Africa, Asia excluding Japan, Australia, Europe excluding the E.U. and South America (in millions of units)\n",
    "        - Global_Sales: Total sales in the world (in millions of units)\n",
    "        - Critic_Score: Aggregate score compiled by Metacritic staff\n",
    "        - Critic_Count: The number of critics used in coming up with the Critic_score\n",
    "        - User_Score: Score by Metacritic's subscribers\n",
    "        - User_Count: Number of users who gave the user_score\n",
    "        - Developer: Party responsible for creating the game\n",
    "        - Rating: The ESRB ratings (E.g. Everyone, Teen, Adults Only..etc)\n",
    "4. 這組資料想解決的問題如何評估\n",
    "    - 預測銷量(回歸)MAE\n",
    "    \n",
    "### 作業2：\n",
    "\n",
    "想像你經營一個自由載客車隊，你希望能透過數據分析以提升業績，請你思考並描述你如何規劃整體的分析/解決方案：\n",
    "\n",
    "1. 核心問題為何\n",
    "    - 提升載客率\n",
    "2. 資料從何而來\n",
    "    - 網路爬蟲(大眾交通公開資料)\n",
    "    - 過去載客資料\n",
    "3. 蒐集而來的資料型態為何\n",
    "    - 結構化資料CSV\n",
    "4. 這組資料想解決的問題如何評估\n",
    "    - 預測載客率(回歸)MAE"
   ]
  },
  {
   "cell_type": "markdown",
   "metadata": {},
   "source": [
    "## 練習時間\n",
    "#### 請寫一個函式用來計算 Mean Square Error\n",
    "$ MSE = \\frac{1}{n}\\sum_{i=1}^{n}{(Y_i - \\hat{Y}_i)^2} $\n",
    "\n",
    "### Hint: [如何取平方](https://googoodesign.gitbooks.io/-ezpython/unit-1.html)"
   ]
  },
  {
   "cell_type": "code",
   "execution_count": 1,
   "metadata": {},
   "outputs": [],
   "source": [
    "import numpy as np\n",
    "import matplotlib.pyplot as plt"
   ]
  },
  {
   "cell_type": "code",
   "execution_count": 2,
   "metadata": {},
   "outputs": [],
   "source": [
    "def mean_absolute_error(y, y_p):\n",
    "    \"\"\"\n",
    "    計算 MAE(平均絕對誤差)\n",
    "    Args:\n",
    "        - y: 實際值\n",
    "        - y_p: 預測值 y_preditc\n",
    "    Return:\n",
    "        - mae: MAE\n",
    "    \"\"\"\n",
    "    mae = MAE = sum(abs(y - y_p)) / len(y)\n",
    "    return mae\n",
    "\n",
    "def mean_squared_error(y, y_p):\n",
    "    \"\"\"\n",
    "    計算 MSE(均方誤差)\n",
    "    Args:\n",
    "        - y: 實際值\n",
    "        - y_p: 預測值 y_preditc\n",
    "    Return:\n",
    "        - mse: MSE\n",
    "    \"\"\"\n",
    "    mse = sum((y- y_p)**2) / len(y)\n",
    "    return mse\n"
   ]
  },
  {
   "cell_type": "code",
   "execution_count": 3,
   "metadata": {},
   "outputs": [
    {
     "data": {
      "image/png": "[encoded data removed]",
      "text/plain": [
       "<Figure size 432x288 with 1 Axes>"
      ]
     },
     "metadata": {
      "needs_background": "light"
     },
     "output_type": "display_data"
    }
   ],
   "source": [
    "w = 3\n",
    "b = 0.5\n",
    "\n",
    "x_lin = np.linspace(0, 100, 101)\n",
    "\n",
    "y = (x_lin + np.random.randn(101) * 5) * w + b\n",
    "\n",
    "plt.plot(x_lin, y, 'b.', label = 'data points')\n",
    "plt.title(\"Assume we have data points\")\n",
    "plt.legend(loc = 2)\n",
    "plt.show()"
   ]
  },
  {
   "cell_type": "code",
   "execution_count": 4,
   "metadata": {},
   "outputs": [
    {
     "data": {
      "image/png": "[encoded data removed]",
      "text/plain": [
       "<Figure size 432x288 with 1 Axes>"
      ]
     },
     "metadata": {
      "needs_background": "light"
     },
     "output_type": "display_data"
    }
   ],
   "source": [
    "y_hat = x_lin * w + b\n",
    "plt.plot(x_lin, y, 'b.', label = 'data')\n",
    "plt.plot(x_lin, y_hat, 'r-', label = 'prediction')\n",
    "plt.title(\"Assume we have data points (And the prediction)\")\n",
    "plt.legend(loc = 2)\n",
    "plt.show()"
   ]
  },
  {
   "cell_type": "code",
   "execution_count": 5,
   "metadata": {},
   "outputs": [
    {
     "name": "stdout",
     "output_type": "stream",
     "text": [
      "The Mean squared error is 203.550\n",
      "The Mean absolute error is 11.425\n"
     ]
    }
   ],
   "source": [
    "# 執行 Function, 確認有沒有正常執行\n",
    "MSE = mean_squared_error(y, y_hat)\n",
    "MAE = mean_absolute_error(y, y_hat)\n",
    "print(\"The Mean squared error is %.3f\" % (MSE))\n",
    "print(\"The Mean absolute error is %.3f\" % (MAE))"
   ]
  }
 ],
 "metadata": {
  "anaconda-cloud": {},
  "kernelspec": {
   "display_name": "Python 3",
   "language": "python",
   "name": "python3"
  },
  "language_info": {
   "codemirror_mode": {
    "name": "ipython",
    "version": 3
   },
   "file_extension": ".py",
   "mimetype": "text/x-python",
   "name": "python",
   "nbconvert_exporter": "python",
   "pygments_lexer": "ipython3",
   "version": "3.7.1"
  }
 },
 "nbformat": 4,
 "nbformat_minor": 1
}
