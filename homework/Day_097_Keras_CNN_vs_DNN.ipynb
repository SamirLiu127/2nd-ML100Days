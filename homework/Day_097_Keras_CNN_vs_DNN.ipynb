{
 "cells": [
  {
   "cell_type": "code",
   "execution_count": 7,
   "metadata": {},
   "outputs": [],
   "source": [
    "import keras\n",
    "from keras.datasets import cifar10\n",
    "from keras.preprocessing.image import ImageDataGenerator\n",
    "from keras.models import Sequential\n",
    "from keras.layers import Dense, Dropout, Activation, Flatten\n",
    "from keras.layers import Conv2D, MaxPooling2D\n",
    "from keras.optimizers import RMSprop, Adam\n",
    "import os"
   ]
  },
  {
   "cell_type": "code",
   "execution_count": 8,
   "metadata": {},
   "outputs": [
    {
     "name": "stdout",
     "output_type": "stream",
     "text": [
      "x_train shape: (50000, 32, 32, 3)\n",
      "50000 train samples\n",
      "10000 test samples\n"
     ]
    }
   ],
   "source": [
    "batch_size = 64 # batch 的大小，如果出現 OOM error，請降低這個值\n",
    "num_classes = 10 # 類別的數量，Cifar 10 共有 10 個類別\n",
    "epochs = 15 # 訓練的 epochs 數量\n",
    "\n",
    "# 讀取資料並檢視\n",
    "(x_train, y_train), (x_test, y_test) = cifar10.load_data()\n",
    "print('x_train shape:', x_train.shape)\n",
    "print(x_train.shape[0], 'train samples')\n",
    "print(x_test.shape[0], 'test samples')\n",
    "\n",
    "# 對 label 進行 one-hot encoding (y_trian 原本是純數字)\n",
    "y_train = keras.utils.to_categorical(y_train, num_classes)\n",
    "y_test = keras.utils.to_categorical(y_test, num_classes)"
   ]
  },
  {
   "cell_type": "markdown",
   "metadata": {},
   "source": [
    "## 首先我們使用一般的 DNN (MLP) 來訓練\n",
    "由於 DNN 只能輸入一維的資料，我們要先將影像進行攤平，若 (50000, 32, 32, 3) 的影像，攤平後會變成 (50000, 32*32*3) = (50000, 3072)"
   ]
  },
  {
   "cell_type": "code",
   "execution_count": 9,
   "metadata": {},
   "outputs": [
    {
     "name": "stdout",
     "output_type": "stream",
     "text": [
      "50000 train samples\n",
      "10000 test samples\n"
     ]
    }
   ],
   "source": [
    "# 將資料攤平成一維資料\n",
    "x_train = x_train.reshape(50000, 3072) \n",
    "x_test = x_test.reshape(10000, 3072)\n",
    "\n",
    "# 將資料變為 float32 並標準化\n",
    "x_train = x_train.astype('float32')\n",
    "x_test = x_test.astype('float32')\n",
    "x_train /= 255\n",
    "x_test /= 255\n",
    "print(x_train.shape[0], 'train samples')\n",
    "print(x_test.shape[0], 'test samples')"
   ]
  },
  {
   "cell_type": "code",
   "execution_count": 10,
   "metadata": {},
   "outputs": [
    {
     "name": "stdout",
     "output_type": "stream",
     "text": [
      "_________________________________________________________________\n",
      "Layer (type)                 Output Shape              Param #   \n",
      "=================================================================\n",
      "dense_6 (Dense)              (None, 512)               1573376   \n",
      "_________________________________________________________________\n",
      "dropout_6 (Dropout)          (None, 512)               0         \n",
      "_________________________________________________________________\n",
      "dense_7 (Dense)              (None, 512)               262656    \n",
      "_________________________________________________________________\n",
      "dropout_7 (Dropout)          (None, 512)               0         \n",
      "_________________________________________________________________\n",
      "dense_8 (Dense)              (None, 10)                5130      \n",
      "=================================================================\n",
      "Total params: 1,841,162\n",
      "Trainable params: 1,841,162\n",
      "Non-trainable params: 0\n",
      "_________________________________________________________________\n",
      "Train on 50000 samples, validate on 10000 samples\n",
      "Epoch 1/15\n",
      "50000/50000 [==============================] - 14s 270us/step - loss: 2.0737 - acc: 0.2649 - val_loss: 1.9916 - val_acc: 0.2894\n",
      "Epoch 2/15\n",
      "50000/50000 [==============================] - 13s 254us/step - loss: 1.8400 - acc: 0.3341 - val_loss: 1.7616 - val_acc: 0.3780\n",
      "Epoch 3/15\n",
      "50000/50000 [==============================] - 11s 230us/step - loss: 1.7840 - acc: 0.3592 - val_loss: 1.6949 - val_acc: 0.3903\n",
      "Epoch 4/15\n",
      "50000/50000 [==============================] - 12s 242us/step - loss: 1.7541 - acc: 0.3722 - val_loss: 1.7292 - val_acc: 0.3744\n",
      "Epoch 5/15\n",
      "50000/50000 [==============================] - 16s 317us/step - loss: 1.7258 - acc: 0.3827 - val_loss: 1.7735 - val_acc: 0.3553\n",
      "Epoch 6/15\n",
      "50000/50000 [==============================] - 11s 222us/step - loss: 1.7056 - acc: 0.3933 - val_loss: 1.7403 - val_acc: 0.3806\n",
      "Epoch 7/15\n",
      "50000/50000 [==============================] - 11s 217us/step - loss: 1.6905 - acc: 0.3960 - val_loss: 1.7671 - val_acc: 0.3637\n",
      "Epoch 8/15\n",
      "50000/50000 [==============================] - 11s 218us/step - loss: 1.6807 - acc: 0.3974 - val_loss: 1.6484 - val_acc: 0.4161\n",
      "Epoch 9/15\n",
      "50000/50000 [==============================] - 11s 219us/step - loss: 1.6740 - acc: 0.4019 - val_loss: 1.6293 - val_acc: 0.4112\n",
      "Epoch 10/15\n",
      "50000/50000 [==============================] - 11s 229us/step - loss: 1.6688 - acc: 0.4061 - val_loss: 1.6699 - val_acc: 0.3958\n",
      "Epoch 11/15\n",
      "50000/50000 [==============================] - 11s 218us/step - loss: 1.6633 - acc: 0.4084 - val_loss: 1.6953 - val_acc: 0.4037\n",
      "Epoch 12/15\n",
      "50000/50000 [==============================] - 11s 223us/step - loss: 1.6494 - acc: 0.4117 - val_loss: 1.8605 - val_acc: 0.3227\n",
      "Epoch 13/15\n",
      "50000/50000 [==============================] - 12s 245us/step - loss: 1.6491 - acc: 0.4142 - val_loss: 1.5864 - val_acc: 0.4312\n",
      "Epoch 14/15\n",
      "50000/50000 [==============================] - 12s 235us/step - loss: 1.6449 - acc: 0.4126 - val_loss: 1.5976 - val_acc: 0.4363\n",
      "Epoch 15/15\n",
      "50000/50000 [==============================] - 12s 243us/step - loss: 1.6459 - acc: 0.4132 - val_loss: 1.6575 - val_acc: 0.4068\n",
      "Test loss: 1.6574645454406738\n",
      "Test accuracy: 0.4068\n"
     ]
    }
   ],
   "source": [
    "model = Sequential()\n",
    "model.add(Dense(512, activation='relu', input_shape=(3072,)))\n",
    "model.add(Dropout(0.2))\n",
    "model.add(Dense(512, activation='relu'))\n",
    "model.add(Dropout(0.2))\n",
    "model.add(Dense(num_classes, activation='softmax'))\n",
    "\n",
    "model.summary()\n",
    "\n",
    "model.compile(loss='categorical_crossentropy',\n",
    "              optimizer=RMSprop(),\n",
    "              metrics=['accuracy'])\n",
    "\n",
    "history = model.fit(x_train, y_train,\n",
    "                    batch_size=batch_size,\n",
    "                    epochs=epochs,\n",
    "                    verbose=1,\n",
    "                    validation_data=(x_test, y_test))\n",
    "score = model.evaluate(x_test, y_test, verbose=0)\n",
    "print('Test loss:', score[0])\n",
    "print('Test accuracy:', score[1])"
   ]
  },
  {
   "cell_type": "markdown",
   "metadata": {},
   "source": [
    "## 接下來我們使用 CNN 來訓練神經網路\n",
    "CNN 的原理非常適合處理影像類的資料，就讓我們來看看，同樣的訓練條件，CNN 是否顯著優於 DNN 呢?"
   ]
  },
  {
   "cell_type": "code",
   "execution_count": 11,
   "metadata": {},
   "outputs": [
    {
     "name": "stdout",
     "output_type": "stream",
     "text": [
      "x_train shape: (50000, 32, 32, 3)\n",
      "50000 train samples\n",
      "10000 test samples\n"
     ]
    }
   ],
   "source": [
    "(x_train, y_train), (x_test, y_test) = cifar10.load_data()\n",
    "print('x_train shape:', x_train.shape)\n",
    "print(x_train.shape[0], 'train samples')\n",
    "print(x_test.shape[0], 'test samples')\n",
    "x_train = x_train.astype('float32')\n",
    "x_test = x_test.astype('float32')\n",
    "x_train /= 255\n",
    "x_test /= 255\n",
    "\n",
    "# Convert class vectors to binary class matrices.\n",
    "y_train = keras.utils.to_categorical(y_train, num_classes)\n",
    "y_test = keras.utils.to_categorical(y_test, num_classes)"
   ]
  },
  {
   "cell_type": "code",
   "execution_count": 12,
   "metadata": {
    "scrolled": false
   },
   "outputs": [
    {
     "name": "stdout",
     "output_type": "stream",
     "text": [
      "_________________________________________________________________\n",
      "Layer (type)                 Output Shape              Param #   \n",
      "=================================================================\n",
      "conv2d_5 (Conv2D)            (None, 32, 32, 32)        896       \n",
      "_________________________________________________________________\n",
      "activation_7 (Activation)    (None, 32, 32, 32)        0         \n",
      "_________________________________________________________________\n",
      "conv2d_6 (Conv2D)            (None, 30, 30, 32)        9248      \n",
      "_________________________________________________________________\n",
      "activation_8 (Activation)    (None, 30, 30, 32)        0         \n",
      "_________________________________________________________________\n",
      "max_pooling2d_3 (MaxPooling2 (None, 15, 15, 32)        0         \n",
      "_________________________________________________________________\n",
      "dropout_8 (Dropout)          (None, 15, 15, 32)        0         \n",
      "_________________________________________________________________\n",
      "conv2d_7 (Conv2D)            (None, 15, 15, 64)        18496     \n",
      "_________________________________________________________________\n",
      "activation_9 (Activation)    (None, 15, 15, 64)        0         \n",
      "_________________________________________________________________\n",
      "conv2d_8 (Conv2D)            (None, 13, 13, 64)        36928     \n",
      "_________________________________________________________________\n",
      "activation_10 (Activation)   (None, 13, 13, 64)        0         \n",
      "_________________________________________________________________\n",
      "max_pooling2d_4 (MaxPooling2 (None, 6, 6, 64)          0         \n",
      "_________________________________________________________________\n",
      "dropout_9 (Dropout)          (None, 6, 6, 64)          0         \n",
      "_________________________________________________________________\n",
      "flatten_2 (Flatten)          (None, 2304)              0         \n",
      "_________________________________________________________________\n",
      "dense_9 (Dense)              (None, 512)               1180160   \n",
      "_________________________________________________________________\n",
      "activation_11 (Activation)   (None, 512)               0         \n",
      "_________________________________________________________________\n",
      "dropout_10 (Dropout)         (None, 512)               0         \n",
      "_________________________________________________________________\n",
      "dense_10 (Dense)             (None, 10)                5130      \n",
      "_________________________________________________________________\n",
      "activation_12 (Activation)   (None, 10)                0         \n",
      "=================================================================\n",
      "Total params: 1,250,858\n",
      "Trainable params: 1,250,858\n",
      "Non-trainable params: 0\n",
      "_________________________________________________________________\n",
      "Train on 50000 samples, validate on 10000 samples\n",
      "Epoch 1/15\n",
      "50000/50000 [==============================] - 120s 2ms/step - loss: 1.6512 - acc: 0.4028 - val_loss: 1.2694 - val_acc: 0.5440\n",
      "Epoch 2/15\n",
      "50000/50000 [==============================] - 116s 2ms/step - loss: 1.2141 - acc: 0.5701 - val_loss: 1.3182 - val_acc: 0.5669\n",
      "Epoch 3/15\n",
      "50000/50000 [==============================] - 123s 2ms/step - loss: 1.0330 - acc: 0.6411 - val_loss: 1.0594 - val_acc: 0.6357\n",
      "Epoch 4/15\n",
      "50000/50000 [==============================] - 125s 3ms/step - loss: 0.9261 - acc: 0.6793 - val_loss: 0.8754 - val_acc: 0.6973\n",
      "Epoch 5/15\n",
      "50000/50000 [==============================] - 119s 2ms/step - loss: 0.8681 - acc: 0.6998 - val_loss: 0.8177 - val_acc: 0.7222\n",
      "Epoch 6/15\n",
      "50000/50000 [==============================] - 117s 2ms/step - loss: 0.8256 - acc: 0.7174 - val_loss: 0.9614 - val_acc: 0.6823\n",
      "Epoch 7/15\n",
      "50000/50000 [==============================] - 125s 3ms/step - loss: 0.8187 - acc: 0.7231 - val_loss: 0.7781 - val_acc: 0.7413\n",
      "Epoch 8/15\n",
      "50000/50000 [==============================] - 120s 2ms/step - loss: 0.8149 - acc: 0.7267 - val_loss: 0.7280 - val_acc: 0.7533\n",
      "Epoch 9/15\n",
      "50000/50000 [==============================] - 118s 2ms/step - loss: 0.8090 - acc: 0.7285 - val_loss: 0.8323 - val_acc: 0.7187\n",
      "Epoch 10/15\n",
      "50000/50000 [==============================] - 137s 3ms/step - loss: 0.8186 - acc: 0.7301 - val_loss: 0.7683 - val_acc: 0.7510\n",
      "Epoch 11/15\n",
      "50000/50000 [==============================] - 133s 3ms/step - loss: 0.8151 - acc: 0.7297 - val_loss: 1.0325 - val_acc: 0.6674\n",
      "Epoch 12/15\n",
      "50000/50000 [==============================] - 129s 3ms/step - loss: 0.8261 - acc: 0.7286 - val_loss: 4.0390 - val_acc: 0.3935\n",
      "Epoch 13/15\n",
      "50000/50000 [==============================] - 158s 3ms/step - loss: 0.8370 - acc: 0.7273 - val_loss: 1.2768 - val_acc: 0.6852\n",
      "Epoch 14/15\n",
      "50000/50000 [==============================] - 131s 3ms/step - loss: 0.8393 - acc: 0.7266 - val_loss: 0.7782 - val_acc: 0.7437\n",
      "Epoch 15/15\n",
      "50000/50000 [==============================] - 123s 2ms/step - loss: 0.8488 - acc: 0.7247 - val_loss: 0.8002 - val_acc: 0.7322\n",
      "Test loss: 0.8001714143276215\n",
      "Test accuracy: 0.7322\n"
     ]
    }
   ],
   "source": [
    "model = Sequential()\n",
    "model.add(Conv2D(32, (3, 3), padding='same',\n",
    "                 input_shape=x_train.shape[1:]))\n",
    "model.add(Activation('relu'))\n",
    "model.add(Conv2D(32, (3, 3)))\n",
    "model.add(Activation('relu'))\n",
    "model.add(MaxPooling2D(pool_size=(2, 2)))\n",
    "model.add(Dropout(0.25))\n",
    "\n",
    "model.add(Conv2D(64, (3, 3), padding='same'))\n",
    "model.add(Activation('relu'))\n",
    "model.add(Conv2D(64, (3, 3)))\n",
    "model.add(Activation('relu'))\n",
    "model.add(MaxPooling2D(pool_size=(2, 2)))\n",
    "model.add(Dropout(0.25))\n",
    "\n",
    "model.add(Flatten())\n",
    "model.add(Dense(512))\n",
    "model.add(Activation('relu'))\n",
    "model.add(Dropout(0.5))\n",
    "model.add(Dense(num_classes))\n",
    "model.add(Activation('softmax'))\n",
    "model.summary()\n",
    "\n",
    "model.compile(loss='categorical_crossentropy',\n",
    "              optimizer=RMSprop(),\n",
    "              metrics=['accuracy'])\n",
    "\n",
    "history = model.fit(x_train, y_train,\n",
    "                    batch_size=batch_size,\n",
    "                    epochs=epochs,\n",
    "                    verbose=1,\n",
    "                    validation_data=(x_test, y_test))\n",
    "score = model.evaluate(x_test, y_test, verbose=0)\n",
    "print('Test loss:', score[0])\n",
    "print('Test accuracy:', score[1])"
   ]
  },
  {
   "cell_type": "markdown",
   "metadata": {},
   "source": [
    "## 同樣運算 10 個 epochs，但 CNN 在 test data 的準確率顯著優於 DNN!"
   ]
  },
  {
   "cell_type": "markdown",
   "metadata": {},
   "source": [
    "## 作業\n",
    "1. 請試著調整各個超參數，並說明那些超參數對於結果有明顯的影響?\n",
    "\n",
    "hyperparameters|DNN_loss|DNN_acc|CNN_loss|CNN_acc\n",
    ":----|:----:|:----:|:----:|:----:\n",
    "batch_size=128, epochs=10|1.5236|0.4728|0.7365|0.7479\n",
    "batch_size=128, epochs=25|1.4555|0.4872|0.7011|0.7884\n",
    "batch_size=256, epochs=10|1.5623|0.4476|0.8265|0.7326\n",
    "batch_size=64,  epochs=15|1.6574|0.4068|0.8001|0.7322\n",
    "\n",
    "2. CNN 與 DNN 哪個模型的參數數量比較多? 造成參數的數量不同的原因在哪?\n",
    "    - DNN參數量多，圖片沒壓縮加上全連結"
   ]
  },
  {
   "cell_type": "code",
   "execution_count": null,
   "metadata": {},
   "outputs": [],
   "source": []
  }
 ],
 "metadata": {
  "kernelspec": {
   "display_name": "Python [conda env:tensorflow]",
   "language": "python",
   "name": "conda-env-tensorflow-py"
  },
  "language_info": {
   "codemirror_mode": {
    "name": "ipython",
    "version": 3
   },
   "file_extension": ".py",
   "mimetype": "text/x-python",
   "name": "python",
   "nbconvert_exporter": "python",
   "pygments_lexer": "ipython3",
   "version": "3.7.3"
  }
 },
 "nbformat": 4,
 "nbformat_minor": 2
}
