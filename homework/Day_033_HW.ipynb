{
 "cells": [
  {
   "cell_type": "markdown",
   "metadata": {},
   "source": [
    "## 練習時間"
   ]
  },
  {
   "cell_type": "markdown",
   "metadata": {},
   "source": [
    "請觀看李宏毅教授以神奇寶貝進化 CP 值預測的範例，解說何謂機器學習與過擬合。並回答以下問題"
   ]
  },
  {
   "cell_type": "markdown",
   "metadata": {},
   "source": [
    "[youtube](https://www.youtube.com/watch?v=fegAeph9UaA)"
   ]
  },
  {
   "cell_type": "markdown",
   "metadata": {},
   "source": [
    "## 參考資料\n",
    "\n",
    "理解機器學習中很重要的 Bias/Variance trade-off 的意義為何\n",
    "\n",
    "影片連結：[學習曲線與 bias/variance trade-off](http://bangqu.com/yjB839.html)\n",
    "![](https://ai100-fileentity.cupoy.com/2nd/homework/D33/1558082859787/large)\n",
    "![](https://ai100-fileentity.cupoy.com/2nd/homework/D33/1558082861458/large)"
   ]
  },
  {
   "cell_type": "markdown",
   "metadata": {},
   "source": [
    "### 1. 模型的泛化能力 (generalization) 是指什麼？\n",
    "- 一個模型對於非訓練集的資料的預測能力有多好(誤差有多小)\n",
    "\n",
    "### 2. 分類問題與回歸問題分別可用的目標函數有哪些？\n",
    "- 分類問題 • Accuracy • F1-score • AUC (Area Under Curve) • 交叉商 (Cross Entropy)\n",
    "- 回歸問題 • RMSE (Root Mean Square Error) • Mean Absolute Error • R-Square"
   ]
  },
  {
   "cell_type": "code",
   "execution_count": null,
   "metadata": {
    "collapsed": true
   },
   "outputs": [],
   "source": []
  }
 ],
 "metadata": {
  "kernelspec": {
   "display_name": "Python 3",
   "language": "python",
   "name": "python3"
  },
  "language_info": {
   "codemirror_mode": {
    "name": "ipython",
    "version": 3
   },
   "file_extension": ".py",
   "mimetype": "text/x-python",
   "name": "python",
   "nbconvert_exporter": "python",
   "pygments_lexer": "ipython3",
   "version": "3.6.8"
  }
 },
 "nbformat": 4,
 "nbformat_minor": 2
}
